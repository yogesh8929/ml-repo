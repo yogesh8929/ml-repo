{
  "nbformat": 4,
  "nbformat_minor": 0,
  "metadata": {
    "colab": {
      "name": "NumPyRandom.ipynb",
      "provenance": [],
      "authorship_tag": "ABX9TyOUfrUwEcYd9dO9KuF7btww",
      "include_colab_link": true
    },
    "kernelspec": {
      "name": "python3",
      "display_name": "Python 3"
    }
  },
  "cells": [
    {
      "cell_type": "markdown",
      "metadata": {
        "id": "view-in-github",
        "colab_type": "text"
      },
      "source": [
        "<a href=\"https://colab.research.google.com/github/gauravpks/ml-repo/blob/master/NumPyRandom.ipynb\" target=\"_parent\"><img src=\"https://colab.research.google.com/assets/colab-badge.svg\" alt=\"Open In Colab\"/></a>"
      ]
    },
    {
      "cell_type": "markdown",
      "metadata": {
        "id": "pJaODgPT5XDG",
        "colab_type": "text"
      },
      "source": [
        "#Distribution"
      ]
    },
    {
      "cell_type": "markdown",
      "metadata": {
        "id": "hln3woK0qq0f",
        "colab_type": "text"
      },
      "source": [
        "**What is a Random Number?**\n",
        "Random number does NOT mean a different number every time. Random means something that can not be predicted logically.\n",
        "\n",
        "**Pseudo Random and True Random.**\n",
        "Computers work on programs, and programs are definitive set of instructions. So it means there must be some algorithm to generate a random number as well.\n",
        "\n",
        "If there is a program to generate random number it can be predicted, thus it is not truly random.\n",
        "\n",
        "Random numbers generated through a generation algorithm are called pseudo random.\n",
        "\n",
        "**Can we make truly random numbers?**\n",
        "\n",
        "Yes. In order to generate a truly random number on our computers we need to get the random data from some outside source. This outside source is generally our keystrokes, mouse movements, data on network etc.\n",
        "\n",
        "We do not need truly random numbers, unless its related to security (e.g. encryption keys) or the basis of application is the randomness (e.g. Digital roulette wheels).\n",
        "\n",
        "In this tutorial we will be using pseudo random numbers."
      ]
    },
    {
      "cell_type": "markdown",
      "metadata": {
        "id": "Gsf3ShCWq-Hx",
        "colab_type": "text"
      },
      "source": [
        "\n",
        "NumPy offers the random module to work with random numbers.\n",
        "\n",
        "\n",
        "---\n",
        "\n",
        "\n",
        "\n",
        "---\n",
        "\n"
      ]
    },
    {
      "cell_type": "code",
      "metadata": {
        "id": "MgIFM4ZPq4-v",
        "colab_type": "code",
        "colab": {
          "base_uri": "https://localhost:8080/",
          "height": 34
        },
        "outputId": "c2b57b71-b1d0-455e-e507-7f39cf6cd6d1"
      },
      "source": [
        "#Generate a random integer from 0 to 100:\n",
        "from numpy import random\n",
        "x = random.randint(100)\n",
        "print(x)"
      ],
      "execution_count": 1,
      "outputs": [
        {
          "output_type": "stream",
          "text": [
            "9\n"
          ],
          "name": "stdout"
        }
      ]
    },
    {
      "cell_type": "code",
      "metadata": {
        "id": "1Y027Qf4roM2",
        "colab_type": "code",
        "colab": {
          "base_uri": "https://localhost:8080/",
          "height": 34
        },
        "outputId": "98ae99c4-3dcb-4f53-8f1a-73951b3cf718"
      },
      "source": [
        "#Generate a 1-D array containing 5 random integers from 0 to 100:\n",
        "from numpy import random\n",
        "x=random.randint(100, size=(5))\n",
        "print(x)"
      ],
      "execution_count": 4,
      "outputs": [
        {
          "output_type": "stream",
          "text": [
            "[35 92  4 55 69]\n"
          ],
          "name": "stdout"
        }
      ]
    },
    {
      "cell_type": "code",
      "metadata": {
        "id": "jv9k7m1sroGD",
        "colab_type": "code",
        "colab": {
          "base_uri": "https://localhost:8080/",
          "height": 68
        },
        "outputId": "de48a087-85c6-465c-fc1f-2fd6463379d6"
      },
      "source": [
        "#Generate a 2-D array with 3 rows, each row containing 5 random integers from 0 to 100:\n",
        "from numpy import random\n",
        "x = random.randint(100, size=(3, 5))\n",
        "print(x)"
      ],
      "execution_count": 6,
      "outputs": [
        {
          "output_type": "stream",
          "text": [
            "[[61 29 21 91 52]\n",
            " [ 4 79 12 91 81]\n",
            " [ 3 86 94 29 34]]\n"
          ],
          "name": "stdout"
        }
      ]
    },
    {
      "cell_type": "code",
      "metadata": {
        "id": "MCr7xjLlrUcu",
        "colab_type": "code",
        "colab": {
          "base_uri": "https://localhost:8080/",
          "height": 34
        },
        "outputId": "13f5abc3-2852-45be-a660-29d3eed05bd7"
      },
      "source": [
        "#Generate a random float from 0 to 1:\n",
        "from numpy import random\n",
        "x = random.rand()\n",
        "print(x)"
      ],
      "execution_count": 2,
      "outputs": [
        {
          "output_type": "stream",
          "text": [
            "0.9510171714839379\n"
          ],
          "name": "stdout"
        }
      ]
    },
    {
      "cell_type": "code",
      "metadata": {
        "id": "18szTJvpytTw",
        "colab_type": "code",
        "colab": {
          "base_uri": "https://localhost:8080/",
          "height": 68
        },
        "outputId": "a5d57b76-2880-4a06-a72a-bcb067ac4b55"
      },
      "source": [
        "#Generate a 1-D array containing 5 random floats:\n",
        "from numpy import random\n",
        "x = random.rand(3, 5)\n",
        "print(x)"
      ],
      "execution_count": 7,
      "outputs": [
        {
          "output_type": "stream",
          "text": [
            "[[0.07977962 0.56401172 0.46780447 0.08339987 0.66159058]\n",
            " [0.96960429 0.20741712 0.29308587 0.44252137 0.98041788]\n",
            " [0.75353023 0.35684671 0.2796461  0.6784932  0.77585061]]\n"
          ],
          "name": "stdout"
        }
      ]
    },
    {
      "cell_type": "markdown",
      "metadata": {
        "id": "coTCdJQSza8I",
        "colab_type": "text"
      },
      "source": [
        "The choice() method allows you to generate a random value based on an array of values.\n",
        "\n",
        "The choice() method takes an array as a parameter and randomly returns one of the values."
      ]
    },
    {
      "cell_type": "code",
      "metadata": {
        "id": "c0UtV7hzzbkk",
        "colab_type": "code",
        "colab": {
          "base_uri": "https://localhost:8080/",
          "height": 34
        },
        "outputId": "e42b533e-fedb-4b72-8539-d06aa6e75b0a"
      },
      "source": [
        "#Return one of the values in an array:\n",
        "from numpy import random\n",
        "x = random.choice([3, 5, 7, 9])\n",
        "print(x)"
      ],
      "execution_count": 8,
      "outputs": [
        {
          "output_type": "stream",
          "text": [
            "5\n"
          ],
          "name": "stdout"
        }
      ]
    },
    {
      "cell_type": "markdown",
      "metadata": {
        "id": "BnpD0UOSzsHR",
        "colab_type": "text"
      },
      "source": [
        "Generate a 2-D array that consists of the values in the array parameter (3, 5, 7, and 9):"
      ]
    },
    {
      "cell_type": "code",
      "metadata": {
        "id": "hUr8EhQvzqvI",
        "colab_type": "code",
        "colab": {
          "base_uri": "https://localhost:8080/",
          "height": 68
        },
        "outputId": "96c0db34-a41d-490f-9729-01461b0b5827"
      },
      "source": [
        "from numpy import random\n",
        "x = random.choice([3, 5, 7, 9], size=(3, 5))\n",
        "print(x)"
      ],
      "execution_count": 9,
      "outputs": [
        {
          "output_type": "stream",
          "text": [
            "[[7 7 7 7 3]\n",
            " [7 9 5 5 5]\n",
            " [7 7 7 9 7]]\n"
          ],
          "name": "stdout"
        }
      ]
    },
    {
      "cell_type": "code",
      "metadata": {
        "id": "SjrhPnKY0EPv",
        "colab_type": "code",
        "colab": {
          "base_uri": "https://localhost:8080/",
          "height": 68
        },
        "outputId": "63a1ca81-d278-4359-b9e7-0eb0024f5cd5"
      },
      "source": [
        "from numpy import random\n",
        "x = random.choice([3, 5, 7, 9], p=[0.1, 0.3, 0.6, 0.0], size=(100))\n",
        "print(x)"
      ],
      "execution_count": 10,
      "outputs": [
        {
          "output_type": "stream",
          "text": [
            "[7 7 5 5 5 7 7 5 3 7 7 5 5 7 3 7 5 7 3 7 7 3 7 7 7 5 5 7 5 5 7 7 7 7 7 7 5\n",
            " 3 7 7 3 7 7 5 3 5 7 3 7 7 7 7 7 7 7 7 5 5 7 7 7 7 5 7 7 7 7 7 5 7 3 7 3 7\n",
            " 7 7 7 5 7 5 5 7 7 7 7 5 7 5 5 5 7 7 7 3 7 5 7 7 7 7]\n"
          ],
          "name": "stdout"
        }
      ]
    },
    {
      "cell_type": "code",
      "metadata": {
        "id": "uOcYzsJX0bG4",
        "colab_type": "code",
        "colab": {
          "base_uri": "https://localhost:8080/",
          "height": 68
        },
        "outputId": "3417f8e4-0699-497d-e6e4-349e2a178dea"
      },
      "source": [
        "from numpy import random\n",
        "x = random.choice([3, 5, 7, 9], p=[0.1, 0.3, 0.6, 0.0], size=(3, 5))\n",
        "print(x)"
      ],
      "execution_count": 11,
      "outputs": [
        {
          "output_type": "stream",
          "text": [
            "[[7 7 7 7 7]\n",
            " [7 7 7 7 7]\n",
            " [5 7 7 7 5]]\n"
          ],
          "name": "stdout"
        }
      ]
    },
    {
      "cell_type": "code",
      "metadata": {
        "id": "GY8W2IS70tFs",
        "colab_type": "code",
        "colab": {
          "base_uri": "https://localhost:8080/",
          "height": 34
        },
        "outputId": "e99bbe13-fd34-49c2-cafa-32c860adfb3d"
      },
      "source": [
        "#Shuffle means changing arrangement of elements in-place. i.e. in the array itself.\n",
        "#Randomly shuffle elements of following array:\n",
        "from numpy import random\n",
        "import numpy as np\n",
        "arr = np.array([1, 2, 3, 4, 5])\n",
        "random.shuffle(arr)\n",
        "print(arr)"
      ],
      "execution_count": 12,
      "outputs": [
        {
          "output_type": "stream",
          "text": [
            "[5 1 3 2 4]\n"
          ],
          "name": "stdout"
        }
      ]
    },
    {
      "cell_type": "markdown",
      "metadata": {
        "id": "q53-PU8Z1593",
        "colab_type": "text"
      },
      "source": [
        "**Normal Distribution**\n",
        "Mean aroud 0 and variance around 1"
      ]
    },
    {
      "cell_type": "code",
      "metadata": {
        "id": "N_9RNu611HA5",
        "colab_type": "code",
        "colab": {
          "base_uri": "https://localhost:8080/",
          "height": 51
        },
        "outputId": "d2d35518-d584-4cb5-d701-342f6218bced"
      },
      "source": [
        "#Generate a random normal distribution of size 2x3:\n",
        "from numpy import random\n",
        "x = random.normal(size=(2, 3))\n",
        "print(x)"
      ],
      "execution_count": 13,
      "outputs": [
        {
          "output_type": "stream",
          "text": [
            "[[-0.80323994 -0.44561374 -0.96586709]\n",
            " [-1.44785207 -0.70601122  0.93090927]]\n"
          ],
          "name": "stdout"
        }
      ]
    },
    {
      "cell_type": "markdown",
      "metadata": {
        "id": "0q50Xz0e1uIC",
        "colab_type": "text"
      },
      "source": [
        "normal takes more parameters for more control. So rand seems to simply be a convenience function"
      ]
    },
    {
      "cell_type": "code",
      "metadata": {
        "id": "7NZ-EJvP1QL9",
        "colab_type": "code",
        "colab": {
          "base_uri": "https://localhost:8080/",
          "height": 51
        },
        "outputId": "cfce569a-e1eb-4e3e-869a-1c98ce50760d"
      },
      "source": [
        "#Generate a random normal distribution of size 2x3:\n",
        "\n",
        "from numpy import random\n",
        "x = random.randn(10)\n",
        "print(x)"
      ],
      "execution_count": 15,
      "outputs": [
        {
          "output_type": "stream",
          "text": [
            "[ 0.06236961 -1.1832027  -0.78946959 -0.2473057   0.07313166  1.21616217\n",
            "  0.24162659  0.96376748 -0.59890462 -0.65574445]\n"
          ],
          "name": "stdout"
        }
      ]
    },
    {
      "cell_type": "code",
      "metadata": {
        "id": "niUIi8V93AoW",
        "colab_type": "code",
        "colab": {
          "base_uri": "https://localhost:8080/",
          "height": 265
        },
        "outputId": "9623b84d-75bd-40a7-a100-36589e179e3a"
      },
      "source": [
        "from numpy import random\n",
        "import matplotlib.pyplot as plt\n",
        "import seaborn as sns\n",
        "sns.distplot(random.normal(size=1000), hist=False)\n",
        "plt.show();"
      ],
      "execution_count": 17,
      "outputs": [
        {
          "output_type": "display_data",
          "data": {
            "image/png": "[encoded data removed]",
            "text/plain": [
              "<Figure size 432x288 with 1 Axes>"
            ]
          },
          "metadata": {
            "tags": [],
            "needs_background": "light"
          }
        }
      ]
    },
    {
      "cell_type": "markdown",
      "metadata": {
        "id": "MPgCbF8N3Xet",
        "colab_type": "text"
      },
      "source": [
        "\n",
        "**Binomial Distribution is a Discrete Distribution.**\n",
        "\n",
        "It describes the outcome of binary scenarios, e.g. toss of a coin, it will either be head or tails.\n",
        "\n",
        "It has three parameters:\n",
        "\n",
        "n - number of trials.\n",
        "\n",
        "p - probability of occurence of each trial (e.g. for toss of a coin 0.5 each).\n",
        "\n",
        "size - The shape of the returned array."
      ]
    },
    {
      "cell_type": "code",
      "metadata": {
        "id": "Z4Hiny9f3UzU",
        "colab_type": "code",
        "colab": {
          "base_uri": "https://localhost:8080/",
          "height": 34
        },
        "outputId": "0e830264-67b8-49ac-e2cd-69ed9bd467b0"
      },
      "source": [
        "from numpy import random\n",
        "x = random.binomial(n=10, p=0.5, size=10)\n",
        "print(x)"
      ],
      "execution_count": 18,
      "outputs": [
        {
          "output_type": "stream",
          "text": [
            "[1 4 6 3 6 5 3 3 5 4]\n"
          ],
          "name": "stdout"
        }
      ]
    },
    {
      "cell_type": "code",
      "metadata": {
        "id": "BCv4nNuR3q2t",
        "colab_type": "code",
        "colab": {
          "base_uri": "https://localhost:8080/",
          "height": 265
        },
        "outputId": "dfc014cb-401b-43bf-fc4e-99ca01f7388d"
      },
      "source": [
        "from numpy import random\n",
        "import matplotlib.pyplot as plt\n",
        "import seaborn as sns\n",
        "\n",
        "sns.distplot(random.binomial(n=10, p=0.5, size=1000), hist=True, kde=False)\n",
        "\n",
        "plt.show()"
      ],
      "execution_count": 23,
      "outputs": [
        {
          "output_type": "display_data",
          "data": {
            "image/png": "[encoded data removed]",
            "text/plain": [
              "<Figure size 432x288 with 1 Axes>"
            ]
          },
          "metadata": {
            "tags": [],
            "needs_background": "light"
          }
        }
      ]
    },
    {
      "cell_type": "markdown",
      "metadata": {
        "id": "Epr_ZAzF38L2",
        "colab_type": "text"
      },
      "source": [
        "\n",
        "**Poisson Distribution is a Discrete Distribution.**\n",
        "\n",
        "It estimates how many times an event can happen in a specified time. e.g. If someone eats twice a day what is probability he will eat thrice?\n",
        "\n",
        "It has two parameters:\n",
        "\n",
        "lam - rate or known number of occurences e.g. 2 for above problem.\n",
        "\n",
        "size - The shape of the returned array."
      ]
    },
    {
      "cell_type": "code",
      "metadata": {
        "id": "juRSKpuU33XZ",
        "colab_type": "code",
        "colab": {
          "base_uri": "https://localhost:8080/",
          "height": 34
        },
        "outputId": "0e29be9d-6e22-4c22-c057-3a737c6c99a5"
      },
      "source": [
        "from numpy import random\n",
        "x = random.poisson(lam=2, size=10)\n",
        "print(x)"
      ],
      "execution_count": 24,
      "outputs": [
        {
          "output_type": "stream",
          "text": [
            "[2 1 2 2 1 5 1 0 6 0]\n"
          ],
          "name": "stdout"
        }
      ]
    },
    {
      "cell_type": "code",
      "metadata": {
        "id": "Tb4aJNgZ4L4Z",
        "colab_type": "code",
        "colab": {
          "base_uri": "https://localhost:8080/",
          "height": 265
        },
        "outputId": "02966785-a8b9-4e9b-c335-d3046c7b3775"
      },
      "source": [
        "from numpy import random\n",
        "import matplotlib.pyplot as plt\n",
        "import seaborn as sns\n",
        "\n",
        "sns.distplot(random.poisson(lam=2, size=1000), kde=False)\n",
        "\n",
        "plt.show();"
      ],
      "execution_count": 25,
      "outputs": [
        {
          "output_type": "display_data",
          "data": {
            "image/png": "[encoded data removed]",
            "text/plain": [
              "<Figure size 432x288 with 1 Axes>"
            ]
          },
          "metadata": {
            "tags": [],
            "needs_background": "light"
          }
        }
      ]
    },
    {
      "cell_type": "markdown",
      "metadata": {
        "id": "net5D3rP4un9",
        "colab_type": "text"
      },
      "source": [
        "Uniform Distribution\n",
        "Used to describe probability where every event has equal chances of occuring.\n",
        "\n",
        "E.g. Generation of random numbers.\n",
        "\n",
        "It has three parameters:\n",
        "\n",
        "a - lower bound - default 0 .0.\n",
        "\n",
        "b - upper bound - default 1.0.\n",
        "\n",
        "size - The shape of the returned array."
      ]
    },
    {
      "cell_type": "code",
      "metadata": {
        "id": "b_DpXYFv4pe-",
        "colab_type": "code",
        "colab": {
          "base_uri": "https://localhost:8080/",
          "height": 51
        },
        "outputId": "2c2e23a2-c53e-4970-8654-14c8b817ee53"
      },
      "source": [
        "from numpy import random\n",
        "\n",
        "x = random.uniform(size=(2, 3))\n",
        "\n",
        "print(x)"
      ],
      "execution_count": 26,
      "outputs": [
        {
          "output_type": "stream",
          "text": [
            "[[0.71363133 0.618101   0.52018115]\n",
            " [0.15384406 0.93459716 0.25505388]]\n"
          ],
          "name": "stdout"
        }
      ]
    },
    {
      "cell_type": "code",
      "metadata": {
        "id": "vXOLAB044yv_",
        "colab_type": "code",
        "colab": {
          "base_uri": "https://localhost:8080/",
          "height": 265
        },
        "outputId": "07e84f07-0dce-4431-e1bc-18ec15bd174a"
      },
      "source": [
        "from numpy import random\n",
        "import matplotlib.pyplot as plt\n",
        "import seaborn as sns\n",
        "\n",
        "sns.distplot(random.uniform(size=1000), hist=False)\n",
        "\n",
        "plt.show()"
      ],
      "execution_count": 27,
      "outputs": [
        {
          "output_type": "display_data",
          "data": {
            "image/png": "[encoded data removed]",
            "text/plain": [
              "<Figure size 432x288 with 1 Axes>"
            ]
          },
          "metadata": {
            "tags": [],
            "needs_background": "light"
          }
        }
      ]
    },
    {
      "cell_type": "markdown",
      "metadata": {
        "id": "sjC9_QkW47ON",
        "colab_type": "text"
      },
      "source": [
        "**Pareto Distribution**\n",
        "A distribution following Pareto's law i.e. 80-20 distribution (20% factors cause 80% outcome).\n",
        "\n",
        "It has two parameter:\n",
        "\n",
        "a - shape parameter.\n",
        "\n",
        "size - The shape of the returned array."
      ]
    },
    {
      "cell_type": "code",
      "metadata": {
        "id": "L1b_Y4Bn48zo",
        "colab_type": "code",
        "colab": {
          "base_uri": "https://localhost:8080/",
          "height": 51
        },
        "outputId": "e5037e11-6011-4052-9252-7e13e8be14eb"
      },
      "source": [
        "from numpy import random\n",
        "\n",
        "x = random.pareto(a=2, size=(2, 3))\n",
        "\n",
        "print(x)"
      ],
      "execution_count": 28,
      "outputs": [
        {
          "output_type": "stream",
          "text": [
            "[[0.2332963  0.16614504 0.49760974]\n",
            " [0.02558671 0.0709739  0.51770584]]\n"
          ],
          "name": "stdout"
        }
      ]
    },
    {
      "cell_type": "code",
      "metadata": {
        "id": "VD07nfJb4-4O",
        "colab_type": "code",
        "colab": {
          "base_uri": "https://localhost:8080/",
          "height": 265
        },
        "outputId": "4380df33-db03-4bb2-c24f-078f22c7974c"
      },
      "source": [
        "from numpy import random\n",
        "import matplotlib.pyplot as plt\n",
        "import seaborn as sns\n",
        "\n",
        "sns.distplot(random.pareto(a=2, size=1000), kde=False)\n",
        "\n",
        "plt.show()"
      ],
      "execution_count": 29,
      "outputs": [
        {
          "output_type": "display_data",
          "data": {
            "image/png": "[encoded data removed]",
            "text/plain": [
              "<Figure size 432x288 with 1 Axes>"
            ]
          },
          "metadata": {
            "tags": [],
            "needs_background": "light"
          }
        }
      ]
    },
    {
      "cell_type": "markdown",
      "metadata": {
        "id": "Hx03Jo2M5H8R",
        "colab_type": "text"
      },
      "source": [
        "**Chi Square distribution is used as a basis to verify the hypothesis.**\n",
        "\n",
        "It has two parameters:\n",
        "\n",
        "df - (degree of freedom).\n",
        "\n",
        "size - The shape of the returned array."
      ]
    },
    {
      "cell_type": "code",
      "metadata": {
        "id": "Fyn1a7f95MrU",
        "colab_type": "code",
        "colab": {
          "base_uri": "https://localhost:8080/",
          "height": 51
        },
        "outputId": "38bf4f7c-b718-4ada-c9fd-2018e33c0ad8"
      },
      "source": [
        "from numpy import random\n",
        "\n",
        "x = random.chisquare(df=2, size=(2, 3))\n",
        "\n",
        "print(x)"
      ],
      "execution_count": 30,
      "outputs": [
        {
          "output_type": "stream",
          "text": [
            "[[2.13674377 0.78365988 0.24477157]\n",
            " [2.21033218 0.17436057 0.02505446]]\n"
          ],
          "name": "stdout"
        }
      ]
    },
    {
      "cell_type": "code",
      "metadata": {
        "id": "DeIiZPFa5RD_",
        "colab_type": "code",
        "colab": {
          "base_uri": "https://localhost:8080/",
          "height": 265
        },
        "outputId": "3029aada-9532-4e4d-bd3f-a5cc5916f6b8"
      },
      "source": [
        "from numpy import random\n",
        "import matplotlib.pyplot as plt\n",
        "import seaborn as sns\n",
        "\n",
        "sns.distplot(random.chisquare(df=1, size=1000), hist=False)\n",
        "\n",
        "plt.show()"
      ],
      "execution_count": 31,
      "outputs": [
        {
          "output_type": "display_data",
          "data": {
            "image/png": "[encoded data removed]",
            "text/plain": [
              "<Figure size 432x288 with 1 Axes>"
            ]
          },
          "metadata": {
            "tags": [],
            "needs_background": "light"
          }
        }
      ]
    },
    {
      "cell_type": "code",
      "metadata": {
        "id": "zQH3VmbY5Tes",
        "colab_type": "code",
        "colab": {}
      },
      "source": [
        ""
      ],
      "execution_count": null,
      "outputs": []
    }
  ]
}