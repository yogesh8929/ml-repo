{
  "nbformat": 4,
  "nbformat_minor": 0,
  "metadata": {
    "kernelspec": {
      "display_name": "Python 3",
      "language": "python",
      "name": "python3"
    },
    "language_info": {
      "codemirror_mode": {
        "name": "ipython",
        "version": 3
      },
      "file_extension": ".py",
      "mimetype": "text/x-python",
      "name": "python",
      "nbconvert_exporter": "python",
      "pygments_lexer": "ipython3",
      "version": "3.6.1"
    },
    "colab": {
      "name": "1.PreML_Python.ipynb",
      "provenance": [],
      "include_colab_link": true
    }
  },
  "cells": [
    {
      "cell_type": "markdown",
      "metadata": {
        "id": "view-in-github",
        "colab_type": "text"
      },
      "source": [
        "<a href=\"https://colab.research.google.com/github/gauravpks/ml-repo/blob/master/1.PreML_Python.ipynb\" target=\"_parent\"><img src=\"https://colab.research.google.com/assets/colab-badge.svg\" alt=\"Open In Colab\"/></a>"
      ]
    },
    {
      "cell_type": "markdown",
      "metadata": {
        "id": "8-7pSu1P27TK",
        "colab_type": "text"
      },
      "source": [
        "#Hello World"
      ]
    },
    {
      "cell_type": "code",
      "metadata": {
        "id": "1p-WDIy02yWR",
        "colab_type": "code",
        "colab": {}
      },
      "source": [
        "print(\"Hello World\")"
      ],
      "execution_count": null,
      "outputs": []
    },
    {
      "cell_type": "code",
      "metadata": {
        "scrolled": true,
        "id": "X_3zk9fA2ikM",
        "colab_type": "code",
        "colab": {}
      },
      "source": [
        "student_graders ={\"Marry\" : 9.10, \"Sim\" : 8.8, \"John\" : 8.1}\n",
        "print(student_graders)\n",
        "\n",
        "print(sum(student_graders.values())/len(student_graders))"
      ],
      "execution_count": null,
      "outputs": []
    },
    {
      "cell_type": "markdown",
      "metadata": {
        "id": "isv4adAG2ikW",
        "colab_type": "text"
      },
      "source": [
        "# Tuple Example"
      ]
    },
    {
      "cell_type": "code",
      "metadata": {
        "id": "pcH3z-pe2ikX",
        "colab_type": "code",
        "colab": {}
      },
      "source": [
        "tup = (['xtrain' ,'ytrain'], ['xtest', 'ytest'])"
      ],
      "execution_count": 7,
      "outputs": []
    },
    {
      "cell_type": "code",
      "metadata": {
        "id": "HeVXj1so2ikc",
        "colab_type": "code",
        "colab": {}
      },
      "source": [
        "type(tup)"
      ],
      "execution_count": null,
      "outputs": []
    },
    {
      "cell_type": "code",
      "metadata": {
        "id": "-q4Br2Gm2ikf",
        "colab_type": "code",
        "colab": {}
      },
      "source": [
        "x,y = tup"
      ],
      "execution_count": 9,
      "outputs": []
    },
    {
      "cell_type": "code",
      "metadata": {
        "id": "Gx7norY-2ikj",
        "colab_type": "code",
        "colab": {}
      },
      "source": [
        "x"
      ],
      "execution_count": null,
      "outputs": []
    },
    {
      "cell_type": "markdown",
      "metadata": {
        "id": "Qj4aUd3a2iku",
        "colab_type": "text"
      },
      "source": [
        "#Basic Operation- NumPy"
      ]
    },
    {
      "cell_type": "code",
      "metadata": {
        "id": "MwlQx5KS2ik2",
        "colab_type": "code",
        "colab": {}
      },
      "source": [
        "import numpy as np\n",
        "print(np.__version__)"
      ],
      "execution_count": null,
      "outputs": []
    },
    {
      "cell_type": "code",
      "metadata": {
        "id": "IQDZjkx22ik6",
        "colab_type": "code",
        "colab": {}
      },
      "source": [
        "A = np.array([1,3,3])"
      ],
      "execution_count": null,
      "outputs": []
    },
    {
      "cell_type": "code",
      "metadata": {
        "id": "wwOri-S02ilC",
        "colab_type": "code",
        "colab": {}
      },
      "source": [
        "for i in A:\n",
        "    print(i)"
      ],
      "execution_count": null,
      "outputs": []
    },
    {
      "cell_type": "code",
      "metadata": {
        "id": "ObH90NQZ2ilU",
        "colab_type": "code",
        "colab": {}
      },
      "source": [
        "A + np.array(2)"
      ],
      "execution_count": null,
      "outputs": []
    },
    {
      "cell_type": "code",
      "metadata": {
        "id": "VTjj7p5w2ilX",
        "colab_type": "code",
        "colab": {}
      },
      "source": [
        "A+ np.array([2,4,5])"
      ],
      "execution_count": null,
      "outputs": []
    },
    {
      "cell_type": "code",
      "metadata": {
        "id": "pP-Euv5y2ilm",
        "colab_type": "code",
        "colab": {}
      },
      "source": [
        "print(2*A)"
      ],
      "execution_count": null,
      "outputs": []
    },
    {
      "cell_type": "code",
      "metadata": {
        "id": "W6RuI_bh2imh",
        "colab_type": "code",
        "colab": {}
      },
      "source": [
        "A**2"
      ],
      "execution_count": null,
      "outputs": []
    },
    {
      "cell_type": "code",
      "metadata": {
        "id": "oqHSqdxg2imo",
        "colab_type": "code",
        "colab": {}
      },
      "source": [
        "np.sqrt(A)"
      ],
      "execution_count": null,
      "outputs": []
    },
    {
      "cell_type": "code",
      "metadata": {
        "id": "DUGe5AWC2imv",
        "colab_type": "code",
        "colab": {}
      },
      "source": [
        "np.exp(A)"
      ],
      "execution_count": null,
      "outputs": []
    },
    {
      "cell_type": "code",
      "metadata": {
        "id": "b1AZlucn2imz",
        "colab_type": "code",
        "colab": {}
      },
      "source": [
        "np.tanh(A)"
      ],
      "execution_count": null,
      "outputs": []
    },
    {
      "cell_type": "code",
      "metadata": {
        "id": "3J9O6nn82im_",
        "colab_type": "code",
        "colab": {}
      },
      "source": [
        "%whos"
      ],
      "execution_count": null,
      "outputs": []
    },
    {
      "cell_type": "code",
      "metadata": {
        "id": "HmBto3Kc2inC",
        "colab_type": "code",
        "colab": {}
      },
      "source": [
        "a = np.array([1,2])\n",
        "b = np.array([3,4])"
      ],
      "execution_count": null,
      "outputs": []
    },
    {
      "cell_type": "code",
      "metadata": {
        "id": "tTtDoeXv2inG",
        "colab_type": "code",
        "colab": {}
      },
      "source": [
        "dot = 0\n",
        "for e, f in zip(a,b):\n",
        "    dot=dot + e * f\n",
        "print(dot)"
      ],
      "execution_count": null,
      "outputs": []
    },
    {
      "cell_type": "code",
      "metadata": {
        "id": "x4xrpgU62inJ",
        "colab_type": "code",
        "colab": {}
      },
      "source": [
        "dot = 0\n",
        "for i in range(len(a)):\n",
        "    dot = dot + a[i] * b[i]\n",
        "dot\n",
        "    \n"
      ],
      "execution_count": null,
      "outputs": []
    },
    {
      "cell_type": "code",
      "metadata": {
        "id": "cfKl4wNF2inM",
        "colab_type": "code",
        "colab": {}
      },
      "source": [
        "np.sum(a*b)"
      ],
      "execution_count": null,
      "outputs": []
    },
    {
      "cell_type": "code",
      "metadata": {
        "id": "Bq2YkaJH2inP",
        "colab_type": "code",
        "colab": {}
      },
      "source": [
        "np.dot(a,b)"
      ],
      "execution_count": null,
      "outputs": []
    },
    {
      "cell_type": "code",
      "metadata": {
        "id": "kea4Bw8S2inU",
        "colab_type": "code",
        "colab": {}
      },
      "source": [
        "a.dot(b)"
      ],
      "execution_count": null,
      "outputs": []
    },
    {
      "cell_type": "code",
      "metadata": {
        "id": "aZinQpZ22inq",
        "colab_type": "code",
        "colab": {}
      },
      "source": [
        "amag = np.sqrt((a*a).sum())\n",
        "amag"
      ],
      "execution_count": null,
      "outputs": []
    },
    {
      "cell_type": "code",
      "metadata": {
        "id": "tNctmokI2int",
        "colab_type": "code",
        "colab": {}
      },
      "source": [
        "np.linalg.norm(a)"
      ],
      "execution_count": null,
      "outputs": []
    },
    {
      "cell_type": "code",
      "metadata": {
        "id": "WBwOTzcN2ioK",
        "colab_type": "code",
        "colab": {}
      },
      "source": [
        "A = np.array([[1,2],[3,4]])\n",
        "A"
      ],
      "execution_count": null,
      "outputs": []
    },
    {
      "cell_type": "code",
      "metadata": {
        "id": "5WuYeYsT2ioO",
        "colab_type": "code",
        "colab": {}
      },
      "source": [
        "A[0,1]"
      ],
      "execution_count": null,
      "outputs": []
    },
    {
      "cell_type": "code",
      "metadata": {
        "id": "E8tiH3Ze2ioW",
        "colab_type": "code",
        "colab": {}
      },
      "source": [
        "A[:,0]"
      ],
      "execution_count": null,
      "outputs": []
    },
    {
      "cell_type": "code",
      "metadata": {
        "id": "p2U-boVY2ioa",
        "colab_type": "code",
        "colab": {}
      },
      "source": [
        "A.T"
      ],
      "execution_count": null,
      "outputs": []
    },
    {
      "cell_type": "code",
      "metadata": {
        "id": "bV417N2P2iod",
        "colab_type": "code",
        "colab": {}
      },
      "source": [
        "np.exp(A)"
      ],
      "execution_count": null,
      "outputs": []
    },
    {
      "cell_type": "code",
      "metadata": {
        "id": "e4_req8r2ioi",
        "colab_type": "code",
        "colab": {}
      },
      "source": [
        "B = np.array([[1,2,3],[5,2,6]])\n",
        "B\n",
        "\n"
      ],
      "execution_count": null,
      "outputs": []
    },
    {
      "cell_type": "code",
      "metadata": {
        "id": "TkBapA872ioo",
        "colab_type": "code",
        "colab": {}
      },
      "source": [
        "np.dot(A,B)"
      ],
      "execution_count": null,
      "outputs": []
    },
    {
      "cell_type": "code",
      "metadata": {
        "id": "YgUR6UQm2ior",
        "colab_type": "code",
        "colab": {}
      },
      "source": [
        "A.dot(B)"
      ],
      "execution_count": null,
      "outputs": []
    },
    {
      "cell_type": "code",
      "metadata": {
        "id": "YjNHwSpF2io7",
        "colab_type": "code",
        "colab": {}
      },
      "source": [
        "np.diag(A)"
      ],
      "execution_count": null,
      "outputs": []
    },
    {
      "cell_type": "code",
      "metadata": {
        "id": "0W2V0VG22ipl",
        "colab_type": "code",
        "colab": {}
      },
      "source": [
        "np.zeros((2,3))"
      ],
      "execution_count": null,
      "outputs": []
    },
    {
      "cell_type": "code",
      "metadata": {
        "id": "0ndHiEqU2ipn",
        "colab_type": "code",
        "colab": {}
      },
      "source": [
        "np.ones((2,3))"
      ],
      "execution_count": null,
      "outputs": []
    },
    {
      "cell_type": "code",
      "metadata": {
        "id": "1BIUjwj62ipq",
        "colab_type": "code",
        "colab": {}
      },
      "source": [
        "10*np.ones((2,3))"
      ],
      "execution_count": null,
      "outputs": []
    },
    {
      "cell_type": "code",
      "metadata": {
        "id": "oQVoALgl2ipt",
        "colab_type": "code",
        "colab": {}
      },
      "source": [
        "np.eye(3)"
      ],
      "execution_count": null,
      "outputs": []
    },
    {
      "cell_type": "code",
      "metadata": {
        "id": "MQ_At1vR2ipv",
        "colab_type": "code",
        "colab": {}
      },
      "source": [
        "np.random.random()"
      ],
      "execution_count": null,
      "outputs": []
    },
    {
      "cell_type": "code",
      "metadata": {
        "id": "hjCK3MFY2ipz",
        "colab_type": "code",
        "colab": {}
      },
      "source": [
        "np.random.random((2,3))"
      ],
      "execution_count": null,
      "outputs": []
    },
    {
      "cell_type": "code",
      "metadata": {
        "id": "s-Kx-kqU2ip2",
        "colab_type": "code",
        "colab": {}
      },
      "source": [
        "np.random.randn(2, 3)"
      ],
      "execution_count": null,
      "outputs": []
    },
    {
      "cell_type": "code",
      "metadata": {
        "id": "ghy3mP2-2ip4",
        "colab_type": "code",
        "colab": {}
      },
      "source": [
        "R= np.random.randn(1000)"
      ],
      "execution_count": null,
      "outputs": []
    },
    {
      "cell_type": "code",
      "metadata": {
        "id": "V8DPpwwv2ip7",
        "colab_type": "code",
        "colab": {}
      },
      "source": [
        "R.mean()"
      ],
      "execution_count": null,
      "outputs": []
    },
    {
      "cell_type": "code",
      "metadata": {
        "id": "XKCttBOY2ip9",
        "colab_type": "code",
        "colab": {}
      },
      "source": [
        "np.mean(R)"
      ],
      "execution_count": null,
      "outputs": []
    },
    {
      "cell_type": "code",
      "metadata": {
        "id": "HUtmmijs2iqB",
        "colab_type": "code",
        "colab": {}
      },
      "source": [
        "np.std(R)"
      ],
      "execution_count": null,
      "outputs": []
    },
    {
      "cell_type": "code",
      "metadata": {
        "id": "KhtBjNa12iqD",
        "colab_type": "code",
        "colab": {}
      },
      "source": [
        "np.var(R)"
      ],
      "execution_count": null,
      "outputs": []
    },
    {
      "cell_type": "code",
      "metadata": {
        "id": "up0FmhHF2iqH",
        "colab_type": "code",
        "colab": {}
      },
      "source": [
        "R = np.random.randn(1000,3)"
      ],
      "execution_count": null,
      "outputs": []
    },
    {
      "cell_type": "code",
      "metadata": {
        "id": "ONtwdt_Q2iqK",
        "colab_type": "code",
        "colab": {
          "base_uri": "https://localhost:8080/",
          "height": 34
        },
        "outputId": "8dc7ee1e-93c7-4b87-eaa0-0fafd4af6705"
      },
      "source": [
        "R.mean(axis=0)"
      ],
      "execution_count": null,
      "outputs": [
        {
          "output_type": "execute_result",
          "data": {
            "text/plain": [
              "array([ 0.02946861, -0.0471281 , -0.03961756])"
            ]
          },
          "metadata": {
            "tags": []
          },
          "execution_count": 61
        }
      ]
    },
    {
      "cell_type": "code",
      "metadata": {
        "id": "9BTM7OTb2iqN",
        "colab_type": "code",
        "colab": {
          "base_uri": "https://localhost:8080/",
          "height": 1000
        },
        "outputId": "ffb1b244-5661-49cd-89cf-74e7e269e28b"
      },
      "source": [
        "R.mean(axis=1)"
      ],
      "execution_count": null,
      "outputs": [
        {
          "output_type": "execute_result",
          "data": {
            "text/plain": [
              "array([ 0.30151228, -0.97924171,  0.58360054, -0.33613723, -0.63493413,\n",
              "       -0.19258519,  0.75044533, -0.17779542, -0.47278466, -0.6875968 ,\n",
              "       -0.39481486,  0.37863139, -0.08230794, -0.11995191,  0.59105795,\n",
              "        1.31450434, -0.75250969, -0.00769585,  0.41403917, -1.09026783,\n",
              "        0.03898241,  0.64671954, -0.08437759, -0.18921361, -0.56180051,\n",
              "       -0.23243252,  0.83678453, -0.06095795,  0.9644486 ,  0.12149157,\n",
              "        0.07986909,  0.43078848, -0.62063547,  0.13661595, -0.75427014,\n",
              "       -0.36185006, -0.87736757,  0.2347706 , -0.02244677,  0.12951801,\n",
              "        0.84623437,  0.47323553,  0.21046312, -0.18623994, -0.1658209 ,\n",
              "        0.41132885,  0.04350149,  0.288173  , -0.55588766, -0.21194255,\n",
              "        0.82593545, -0.5112723 ,  0.05361022,  0.68898632,  0.13782501,\n",
              "        0.02194405, -0.44199735,  0.88376486, -0.02037699, -0.01477591,\n",
              "        0.17259681,  0.11409659,  1.07709245,  0.16957952, -0.71060949,\n",
              "       -0.28103429, -0.95127284, -0.37215896,  0.07888782,  0.68295937,\n",
              "       -0.16201528,  0.1015293 ,  0.07833418,  0.44068251,  0.68447289,\n",
              "        0.41570714,  0.26553154,  0.24144977,  0.34827931, -0.97175403,\n",
              "        0.59291117, -0.36052781, -0.12816399,  1.04634078,  0.42959237,\n",
              "       -0.09286426, -1.02536087, -0.07424633,  1.16933699,  1.08073703,\n",
              "        0.12295437, -0.22014123,  0.57357271, -0.00789297, -0.46997199,\n",
              "        1.29960497,  0.06453629, -0.58863148, -0.90890855,  0.21751389,\n",
              "       -0.9013737 ,  0.83578878, -0.53707472, -0.3326745 , -0.57228738,\n",
              "       -0.31011789,  0.62767609, -0.2565881 ,  0.52812562, -0.34658801,\n",
              "       -0.79932229,  0.4215669 ,  0.29689238, -0.32028561,  0.55852972,\n",
              "       -0.01531636,  0.34549683, -0.07216728, -0.22738515,  0.60263651,\n",
              "        0.32355814,  0.31646938, -0.63476479, -0.02023604,  0.41727603,\n",
              "       -0.18392354, -0.3710761 ,  0.38203274, -0.17650963,  0.09491236,\n",
              "        0.01852054,  0.62139726, -0.81310181,  0.08641931,  0.10139313,\n",
              "        1.07021681, -1.23552286,  0.61995056,  0.02066664,  0.85321639,\n",
              "        0.04030218, -0.89670066, -0.98094833,  0.06376928,  0.14691407,\n",
              "        0.09420556,  1.17665878,  0.10973432,  0.53275272, -0.41416567,\n",
              "       -0.19410403, -0.08837508,  0.90777383, -0.89563369,  0.11482505,\n",
              "        0.23533294,  0.40044172,  0.02844364,  0.44238756,  0.0087828 ,\n",
              "        0.64131475, -0.10745816,  0.70076073, -0.59995246,  0.93595408,\n",
              "        1.31234851, -0.8028596 , -0.22837325,  0.17406617,  0.38508317,\n",
              "       -0.23827486, -0.23235858, -0.04571588,  0.83969655,  0.30353165,\n",
              "        0.52605791, -0.12704836, -0.4091666 , -1.60666017,  0.54980969,\n",
              "       -0.37814886, -0.00765555,  1.12742521, -0.30439245,  0.63054251,\n",
              "        0.93558942,  0.00917794,  1.19630705, -0.58401322,  0.93247169,\n",
              "       -0.17142005,  0.36949115, -1.18986381,  0.96251145, -0.59319003,\n",
              "        0.25349271, -1.93811572, -0.74985141,  0.30232281, -1.30216476,\n",
              "       -0.29736601, -0.64485951, -0.09689577, -0.219332  , -0.3708117 ,\n",
              "       -0.22472062, -0.7839386 , -1.14261626,  0.5942348 , -0.47584675,\n",
              "       -0.49694835,  2.0828339 ,  0.28405683, -0.60577062,  0.03807593,\n",
              "        0.12550562, -0.61683287, -0.85755796,  0.26737079, -0.25956877,\n",
              "       -0.31353253,  0.43364376,  0.11692316, -0.45180192, -0.84776044,\n",
              "        0.0359244 ,  0.14712829, -0.24099107,  0.19573472, -0.70868226,\n",
              "        0.30977854,  0.53799475,  0.14523727,  0.45198308, -0.25796687,\n",
              "       -0.09489841, -0.4310944 , -0.20497496, -0.34987862,  0.14456736,\n",
              "       -1.0292088 , -0.58498916,  0.11942815, -0.39339023,  0.02342927,\n",
              "       -0.65695358,  1.36788459,  0.36436677, -0.85496243,  0.29659805,\n",
              "        0.3323065 , -0.72405803,  0.17250718, -0.61018911,  0.23710582,\n",
              "       -0.20766826,  0.14755354, -0.33886762,  0.49488944, -0.83412359,\n",
              "       -0.43921461,  0.30203866,  0.02597989,  0.76297217, -0.20915671,\n",
              "        0.40688234,  0.27260929, -0.43186294,  0.06822139, -0.1623964 ,\n",
              "        0.14828575,  0.42862937,  0.85877285,  0.18805163, -0.49665155,\n",
              "        0.60383703,  0.13109175, -0.41298079, -0.17906923,  0.26460359,\n",
              "        0.76520183,  0.48886155,  0.27156157,  1.03649867, -0.92115224,\n",
              "        0.49775495,  0.67407717,  0.78529931,  0.43994454,  0.41480703,\n",
              "        0.10791582, -0.49920252,  0.05270474, -0.02383217,  0.70573304,\n",
              "       -0.58023951,  0.28989582, -0.80063257,  0.17239684,  0.71523593,\n",
              "        0.30655857, -0.09641391, -0.19258711, -0.1171095 , -1.05886625,\n",
              "       -0.09490614, -0.03655054,  0.39745649, -0.7395841 ,  0.15526198,\n",
              "        0.51787073,  0.52275293, -0.45457047, -0.40091369, -0.3057943 ,\n",
              "        0.91861164,  0.04957577, -0.1814015 , -0.81282927,  0.08251765,\n",
              "       -0.09417627,  0.44942612,  2.1803336 , -0.15972435,  0.54767248,\n",
              "        0.59322457,  0.56726406, -0.51765372, -0.39809198, -0.65397109,\n",
              "        1.12746125, -0.6960607 ,  0.44331093, -0.32918123, -0.23245618,\n",
              "       -0.14551335, -0.36164098,  0.11655824,  0.52039881, -0.44952657,\n",
              "       -0.21016882, -0.25293457,  0.36004526, -0.53930262, -0.81694404,\n",
              "       -0.31844914, -0.57093571,  0.68329839, -0.38845119, -0.15270353,\n",
              "       -0.16106123,  0.94054889, -0.21804116,  0.01092488, -0.61050886,\n",
              "       -0.12820658, -0.92426442, -1.87028934,  0.53032545,  0.80923666,\n",
              "        0.59378009, -0.14422676, -0.89407411,  0.14173983,  0.74502039,\n",
              "        0.4150879 ,  1.13921828, -0.38875064, -0.3640426 , -1.17442775,\n",
              "        0.47979394, -0.59271374,  0.21730677,  0.46056217,  0.20379329,\n",
              "       -0.37573878, -0.54004052,  0.05742926, -0.6699452 , -0.84641936,\n",
              "        0.23701579,  0.39256224, -0.03494452,  0.23403047, -0.01343817,\n",
              "       -0.032965  , -0.46682405, -0.14473146,  0.55193091, -0.00245055,\n",
              "        0.07090009, -0.40803088,  1.28481381,  0.10319886,  0.98824065,\n",
              "       -0.05573513, -0.14549835, -0.12002612,  0.2148159 , -0.78350228,\n",
              "        0.36498468,  0.15811822,  0.04945829,  1.14140088, -0.31697938,\n",
              "       -0.03513958,  0.00812081,  0.01338691,  0.96498453,  0.82761299,\n",
              "       -0.41461812, -0.58103191, -0.50610024,  0.63364595, -0.32078418,\n",
              "        1.10336203, -0.38675213, -0.59814793,  0.6139379 ,  0.46694162,\n",
              "       -0.48824014, -0.65379684, -1.41423466, -0.91601985, -0.27815677,\n",
              "       -0.49480416, -0.41593943, -0.6797535 , -0.26010335, -0.87356311,\n",
              "       -1.70313531,  0.46847956, -0.20509061,  0.50124209, -0.67144823,\n",
              "        0.12436304, -0.18358229, -0.21119739, -0.0566865 , -0.51014234,\n",
              "        0.37677184,  0.73601834,  0.41910113, -0.10059277,  0.13894163,\n",
              "       -0.94987951,  0.22866011, -0.87495515,  0.3574588 ,  1.37747925,\n",
              "       -0.01946764, -0.20738665, -0.47026122, -0.28658069, -0.3346528 ,\n",
              "        0.69883882,  0.7270565 , -1.36166817,  0.28818399, -0.4503355 ,\n",
              "       -0.36478956, -0.7507087 ,  0.1407573 , -0.50717463, -1.56006164,\n",
              "       -0.29953053, -0.38073067,  0.03139674,  0.32374075, -0.51545431,\n",
              "        0.13094623, -2.09853016, -1.46611247,  0.32436087,  0.02787822,\n",
              "       -0.28390547,  0.6681063 , -1.09450345, -0.4394938 ,  0.17409434,\n",
              "        0.37136234, -0.21146806, -0.57107403,  0.5371223 , -0.25019196,\n",
              "        1.07211341, -0.59819298, -0.32477498, -0.20948152,  0.09119891,\n",
              "        0.85879999,  0.51353723, -0.07562417,  0.6635798 , -0.01516456,\n",
              "       -0.33764569,  0.02388406,  0.1713272 , -0.11613173, -0.1524432 ,\n",
              "        0.24742396,  0.68030169, -0.79975547,  0.11325564,  0.39175069,\n",
              "       -0.20957507,  0.59104812,  0.70611771,  0.90290734,  0.25379509,\n",
              "       -1.40607758,  0.94676759,  0.21710115, -0.80100178,  0.09614651,\n",
              "       -0.21658855,  0.31494791,  1.41321299, -1.13589054, -0.15778143,\n",
              "        0.21855219, -0.91437394,  0.70201044,  0.60587611, -0.9802746 ,\n",
              "       -0.30986679,  0.65152206, -0.36611892, -1.37628948, -0.96992239,\n",
              "       -0.08099911,  0.27010272, -0.31899352,  0.76697272, -0.06632197,\n",
              "        0.40870266,  0.07686111,  0.39788534, -0.72518645, -0.46931232,\n",
              "        0.03251938, -0.61775944,  0.48527676,  0.63188595, -0.13321613,\n",
              "        0.27304712,  0.97910905, -0.9275699 ,  0.00500948,  0.60403871,\n",
              "        0.05040981, -0.25197604, -1.00613399, -0.3766527 ,  0.43693106,\n",
              "        0.50881863,  0.2330155 ,  0.26940035, -0.1219386 ,  0.19814547,\n",
              "        0.50741941,  0.06386827,  0.1917276 , -0.09226367, -0.46386858,\n",
              "        0.70316393,  0.11104589, -0.25731119, -0.37515462,  0.15001579,\n",
              "       -0.2096947 ,  0.31154507, -0.59604081, -1.28217583, -0.5037888 ,\n",
              "        0.92882581, -0.23288715, -0.02105482, -0.50723964,  0.12087017,\n",
              "       -0.11161193, -0.47383503, -0.33539888,  0.82596874,  0.23517788,\n",
              "        0.04090007,  0.72466179, -0.48746524,  0.13131846,  0.27677523,\n",
              "        0.63981653,  0.22402535,  0.23510547,  0.04227795,  0.65288413,\n",
              "       -1.25554366,  0.65319793, -0.17063263,  0.32358174,  0.21363673,\n",
              "       -0.38053118, -0.9203548 , -0.51766799,  0.22188004, -0.01561401,\n",
              "       -0.10327548,  0.30997613,  0.34026226, -0.50642674, -0.96148601,\n",
              "       -0.8248369 , -0.7379686 , -0.76837376,  0.17788551,  0.39103662,\n",
              "        0.81767603, -0.87023735,  1.38543806, -0.2774404 , -0.91276753,\n",
              "       -0.43326774, -0.47626922, -0.17221191,  1.21892873,  0.223146  ,\n",
              "        0.12614391,  0.25470854, -1.0384258 ,  0.25797608,  0.15593357,\n",
              "        0.81954875,  0.16147971, -0.71739232,  0.03129957, -0.57347484,\n",
              "       -0.36732464,  0.35763051,  0.012222  , -0.28525344,  0.04041035,\n",
              "       -0.7370077 , -0.21308304,  0.30239292, -0.71031856, -0.11506002,\n",
              "       -1.05634065,  0.33591556, -0.16407218, -1.62412985,  0.35942578,\n",
              "       -0.42201059, -0.30070348, -0.74686815, -0.39426174,  0.07263674,\n",
              "       -0.40748845,  0.61164091,  0.31488219,  0.39619509,  0.53935469,\n",
              "        0.0626036 ,  0.84285868, -1.43619812, -1.1557737 , -0.02394691,\n",
              "       -0.38768301, -0.20511824,  0.29006986,  0.09973139, -0.61185449,\n",
              "       -0.39812116, -0.12887796, -0.3975554 ,  0.06218906,  0.77501144,\n",
              "        1.03836309, -1.05178068, -0.95570886,  0.15980232,  0.11076789,\n",
              "        1.19236396, -0.68104208,  1.10043398, -0.29628557, -0.2971991 ,\n",
              "        0.16469199,  0.6869139 ,  0.05708678,  0.87972109, -0.04725114,\n",
              "        1.21384108, -0.2708851 ,  0.36306132,  0.21662218, -0.40025845,\n",
              "       -0.15197199, -0.36306612,  0.92074494,  0.06507658, -0.1365694 ,\n",
              "        0.52781623,  0.48984048,  0.18820992, -0.96604064, -0.18029933,\n",
              "        0.34084075,  0.69734649,  0.06384281,  0.71506157,  0.7412259 ,\n",
              "       -0.58389519, -0.50385078, -0.5177604 , -0.65698149,  1.13027727,\n",
              "       -0.23194227,  0.10882001, -0.18625358,  0.76742876,  0.6907436 ,\n",
              "       -0.491909  ,  0.98087015, -0.27624043, -0.6968398 , -1.28362709,\n",
              "        0.29321517, -0.53738078,  0.75785134,  0.22932013,  0.15177394,\n",
              "        0.62935612, -0.10092072, -0.39420247, -0.95155328,  0.07445852,\n",
              "        0.82787155,  0.74316255,  0.32085959, -0.31726288,  0.91603772,\n",
              "        0.78805597,  1.56298074,  0.45959494,  0.10446266, -0.80691366,\n",
              "        0.51741262, -1.98842953,  0.46452109, -0.22917633, -0.04021427,\n",
              "       -0.07318095, -0.35551222,  0.24802085,  1.08092894,  1.10461652,\n",
              "       -1.58443097,  0.04905566,  0.09809708, -0.77816399,  0.24701432,\n",
              "       -0.37671989,  0.50880266, -0.02553974,  0.05961431,  0.35525813,\n",
              "       -0.28457129, -0.24147324,  0.18389639,  0.75742689, -0.81239002,\n",
              "        0.3488497 ,  0.210657  ,  1.302148  , -0.27531564, -0.0428453 ,\n",
              "       -0.35297122, -0.41471204,  0.16953119,  0.14563349,  0.81845461,\n",
              "       -0.30483098,  0.32644   ,  0.32538328, -0.29125093,  0.60629   ,\n",
              "        0.0703152 ,  0.96662081, -0.24996108, -0.25882663,  0.46198965,\n",
              "        0.55891734,  0.2275304 , -2.21895339, -0.02726088, -1.24652144,\n",
              "       -0.18959901, -0.1690632 , -1.26856894, -0.21908889,  0.02903244,\n",
              "        0.63586847, -0.3134167 , -0.33151452, -0.29999166,  0.67227039,\n",
              "        0.2906192 , -0.80268734, -0.91244777,  0.35501177, -0.99723133,\n",
              "        0.29765421,  0.11929371,  0.42066393, -0.12368661,  0.13867002,\n",
              "        0.18236527, -0.32448461, -0.12322719, -0.87124786, -0.6819316 ,\n",
              "        0.11908273,  0.19825232,  0.39449328, -0.1908117 , -0.26990068,\n",
              "       -0.52331932, -0.28143216,  0.06664619,  1.20488171, -0.40022509,\n",
              "       -0.27369818, -0.52989162, -0.93121238,  0.45665925,  0.32335301,\n",
              "        0.77254614,  0.04805241,  0.15659213,  0.36190628, -0.16317229,\n",
              "       -0.25179303, -0.07470194,  1.51103471, -0.10832558, -0.58100084,\n",
              "        0.60198217,  0.20893961,  1.13183974,  0.20926932,  0.95054143,\n",
              "        0.07485607, -0.35377837,  0.34838654, -0.89233068,  0.12839395,\n",
              "       -0.27304446,  0.0356785 , -0.24336672,  0.38845056, -0.21516383,\n",
              "        0.16451276,  0.73423886,  0.33136196, -0.49704769, -0.66647603,\n",
              "        0.34677096, -1.05607851,  0.74883153,  0.00872818, -0.10281643,\n",
              "       -0.61755329, -0.04028482,  0.16130359, -0.23733315,  0.23453064,\n",
              "       -0.40719073, -0.33265829, -0.34359737,  0.48785451,  0.51436612,\n",
              "       -0.84486753, -0.33230715,  0.25614967, -0.09851451, -0.21868247,\n",
              "        0.26066551, -0.37315349,  0.9206598 , -0.58944434,  0.88547574,\n",
              "       -0.48559992, -0.43729072, -0.06397693, -0.26096044, -1.15530928,\n",
              "        0.02546998,  0.24364083, -0.37913301, -0.00662707, -0.27240411,\n",
              "        0.21749415,  0.43370555, -0.31168288,  0.85530337, -0.51996575,\n",
              "        0.0591642 , -0.302309  , -0.66098004, -0.63331839,  0.22886094,\n",
              "       -0.5657703 ,  0.71696404,  0.25386866, -0.53167171, -0.58335319,\n",
              "        0.15779508, -0.38554797,  0.5740093 , -0.59037051, -0.12619208,\n",
              "        0.26763848,  0.63592048, -0.05860057, -0.28308916,  0.68935938,\n",
              "        0.06489717,  0.18705412, -0.98423098, -0.02188529,  0.01808403,\n",
              "        0.78831137, -0.61788905, -0.07611334, -0.37065219, -0.05875174,\n",
              "        0.6281801 ,  0.85033525,  0.42789132,  0.22478021,  0.30037666,\n",
              "       -0.56943476, -0.82279106,  0.22457644,  0.03105174, -0.33704955,\n",
              "       -0.26223805,  0.57243272,  0.04769032, -0.27398821, -0.10701979,\n",
              "        0.42161025,  0.19962288, -0.39664517, -0.02034822, -0.43047917,\n",
              "       -1.38019036, -0.76161858,  0.31593893,  0.38142847, -0.011186  ,\n",
              "       -0.14073371,  0.11544372, -0.23585715, -0.40619411,  0.35886367,\n",
              "        0.49487832, -0.85742302,  0.0236227 , -0.00648299,  0.22221813,\n",
              "        0.50029469, -0.402963  ,  1.27796575,  1.04845369, -0.72891439,\n",
              "        0.53832227,  0.87890157, -0.07021302, -0.49116323,  0.10868077,\n",
              "        0.48066943, -1.67880615, -1.07569941, -0.1625619 , -0.27290215,\n",
              "       -0.43740803,  0.3755001 , -0.5470753 ,  0.11923173, -0.80686219,\n",
              "       -0.49476018, -0.3840033 ,  0.55284448, -0.51590219, -0.84812802,\n",
              "       -0.48534967,  0.32840213, -0.62331099,  0.3295557 , -0.65601691])"
            ]
          },
          "metadata": {
            "tags": []
          },
          "execution_count": 62
        }
      ]
    },
    {
      "cell_type": "code",
      "metadata": {
        "id": "Sf-mdf2Q2iqQ",
        "colab_type": "code",
        "colab": {}
      },
      "source": [
        "R.mean(axis=1).shape"
      ],
      "execution_count": null,
      "outputs": []
    },
    {
      "cell_type": "code",
      "metadata": {
        "id": "MbNJ-MDV2iqc",
        "colab_type": "code",
        "colab": {}
      },
      "source": [
        "np.cov(R).shape"
      ],
      "execution_count": null,
      "outputs": []
    },
    {
      "cell_type": "code",
      "metadata": {
        "id": "dQZS34Ho2iqj",
        "colab_type": "code",
        "colab": {}
      },
      "source": [
        "np.random.randint(0,10, size=(3,3))"
      ],
      "execution_count": null,
      "outputs": []
    },
    {
      "cell_type": "code",
      "metadata": {
        "id": "qbBK29qh2iqk",
        "colab_type": "code",
        "colab": {}
      },
      "source": [
        "np.random.choice(10, size=(3,3))"
      ],
      "execution_count": null,
      "outputs": []
    },
    {
      "cell_type": "markdown",
      "metadata": {
        "id": "5OJWrUVw-bNw",
        "colab_type": "text"
      },
      "source": [
        "#Basic Operation - Plotting"
      ]
    },
    {
      "cell_type": "code",
      "metadata": {
        "id": "uJJnwe2E2iqm",
        "colab_type": "code",
        "colab": {}
      },
      "source": [
        "import matplotlib.pyplot as plt\n"
      ],
      "execution_count": null,
      "outputs": []
    },
    {
      "cell_type": "code",
      "metadata": {
        "id": "HP5jVmld2iqn",
        "colab_type": "code",
        "colab": {}
      },
      "source": [
        "x = np.linspace(0,20,1000)\n",
        "y = np.sin(x) + 0.2*x"
      ],
      "execution_count": null,
      "outputs": []
    },
    {
      "cell_type": "code",
      "metadata": {
        "id": "i-yez5H82iqr",
        "colab_type": "code",
        "colab": {
          "base_uri": "https://localhost:8080/",
          "height": 265
        },
        "outputId": "7efae44f-2dca-43aa-9066-036e93126e89"
      },
      "source": [
        "plt.plot(x,y)\n",
        "plt.show()"
      ],
      "execution_count": null,
      "outputs": [
        {
          "output_type": "display_data",
          "data": {
            "image/png": "[encoded data removed]",
            "text/plain": [
              "<Figure size 432x288 with 1 Axes>"
            ]
          },
          "metadata": {
            "tags": [],
            "needs_background": "light"
          }
        }
      ]
    },
    {
      "cell_type": "code",
      "metadata": {
        "id": "SiyvJgy32iqt",
        "colab_type": "code",
        "colab": {
          "base_uri": "https://localhost:8080/",
          "height": 295
        },
        "outputId": "8059968a-d1a5-441b-94ff-87160fb9d97f"
      },
      "source": [
        "plt.plot(x,y)\n",
        "plt.xlabel('input')\n",
        "plt.ylabel('outpt')\n",
        "plt.title('my plot')\n",
        "plt.show();"
      ],
      "execution_count": null,
      "outputs": [
        {
          "output_type": "display_data",
          "data": {
            "image/png": "[encoded data removed]",
            "text/plain": [
              "<Figure size 432x288 with 1 Axes>"
            ]
          },
          "metadata": {
            "tags": [],
            "needs_background": "light"
          }
        }
      ]
    },
    {
      "cell_type": "code",
      "metadata": {
        "id": "VefyDMwl2iqw",
        "colab_type": "code",
        "colab": {
          "base_uri": "https://localhost:8080/",
          "height": 265
        },
        "outputId": "fe5e8fd0-b1dd-4003-e44e-02cb2fafdcd7"
      },
      "source": [
        "x = np.random.randn(100,2)\n",
        "plt.scatter(x[:,0], x[:,1])\n",
        "plt.show()"
      ],
      "execution_count": null,
      "outputs": [
        {
          "output_type": "display_data",
          "data": {
            "image/png": "[encoded data removed]",
            "text/plain": [
              "<Figure size 432x288 with 1 Axes>"
            ]
          },
          "metadata": {
            "tags": [],
            "needs_background": "light"
          }
        }
      ]
    },
    {
      "cell_type": "code",
      "metadata": {
        "id": "s4ymdt3N2iqy",
        "colab_type": "code",
        "colab": {}
      },
      "source": [
        "x = np.random.randn(200,2)\n",
        "x[:50] +=3\n",
        "y = np.zeros(200)\n",
        "y[:50] = 1"
      ],
      "execution_count": null,
      "outputs": []
    },
    {
      "cell_type": "code",
      "metadata": {
        "id": "Zztt4Ikw2iqz",
        "colab_type": "code",
        "colab": {
          "base_uri": "https://localhost:8080/",
          "height": 267
        },
        "outputId": "10299734-efbe-48fc-858b-fea91f2377de"
      },
      "source": [
        "plt.scatter(x[:,0], x[:,1], c=y)\n",
        "plt.show()"
      ],
      "execution_count": null,
      "outputs": [
        {
          "output_type": "display_data",
          "data": {
            "image/png": "[encoded data removed]",
            "text/plain": [
              "<Figure size 432x288 with 1 Axes>"
            ]
          },
          "metadata": {
            "tags": [],
            "needs_background": "light"
          }
        }
      ]
    },
    {
      "cell_type": "code",
      "metadata": {
        "id": "XFQPnLZ-2iq4",
        "colab_type": "code",
        "colab": {
          "base_uri": "https://localhost:8080/",
          "height": 265
        },
        "outputId": "de544779-972d-438c-9e85-ecf7a8fd3c31"
      },
      "source": [
        "z = np.random.randn(10000)\n",
        "plt.hist(z, bins=50)\n",
        "plt.show()"
      ],
      "execution_count": null,
      "outputs": [
        {
          "output_type": "display_data",
          "data": {
            "image/png": "[encoded data removed]",
            "text/plain": [
              "<Figure size 432x288 with 1 Axes>"
            ]
          },
          "metadata": {
            "tags": [],
            "needs_background": "light"
          }
        }
      ]
    },
    {
      "cell_type": "code",
      "metadata": {
        "id": "A0VV3CEL2iq6",
        "colab_type": "code",
        "colab": {
          "base_uri": "https://localhost:8080/",
          "height": 265
        },
        "outputId": "845b8dfb-65f3-452d-8d4a-653f81349b12"
      },
      "source": [
        "x= np.random.random(1000)\n",
        "plt.hist(x, bins=50)\n",
        "plt.show();"
      ],
      "execution_count": null,
      "outputs": [
        {
          "output_type": "display_data",
          "data": {
            "image/png": "[encoded data removed]",
            "text/plain": [
              "<Figure size 432x288 with 1 Axes>"
            ]
          },
          "metadata": {
            "tags": [],
            "needs_background": "light"
          }
        }
      ]
    },
    {
      "cell_type": "markdown",
      "metadata": {
        "id": "kUXCC_jt_3MG",
        "colab_type": "text"
      },
      "source": [
        "#Reading Image"
      ]
    },
    {
      "cell_type": "code",
      "metadata": {
        "id": "f3zeF2Bc2iq7",
        "colab_type": "code",
        "colab": {
          "base_uri": "https://localhost:8080/",
          "height": 224
        },
        "outputId": "1a0f4333-ecf4-4c7b-8ece-6ce66d40e5c4"
      },
      "source": [
        "!wget https://www.finecooking.com/app/uploads/cms/uploadedimages/images/cooking/articles/web_only/051ricebasmati_xlg.jpg"
      ],
      "execution_count": 11,
      "outputs": [
        {
          "output_type": "stream",
          "text": [
            "--2020-09-10 06:38:15--  https://www.finecooking.com/app/uploads/cms/uploadedimages/images/cooking/articles/web_only/051ricebasmati_xlg.jpg\n",
            "Resolving www.finecooking.com (www.finecooking.com)... 172.67.72.68, 104.26.4.160, 104.26.5.160, ...\n",
            "Connecting to www.finecooking.com (www.finecooking.com)|172.67.72.68|:443... connected.\n",
            "HTTP request sent, awaiting response... 200 OK\n",
            "Length: 78994 (77K) [image/jpeg]\n",
            "Saving to: ‘051ricebasmati_xlg.jpg’\n",
            "\n",
            "\r051ricebasmati_xlg.   0%[                    ]       0  --.-KB/s               \r051ricebasmati_xlg. 100%[===================>]  77.14K  --.-KB/s    in 0.01s   \n",
            "\n",
            "2020-09-10 06:38:15 (7.01 MB/s) - ‘051ricebasmati_xlg.jpg’ saved [78994/78994]\n",
            "\n"
          ],
          "name": "stdout"
        }
      ]
    },
    {
      "cell_type": "code",
      "metadata": {
        "id": "Q8BymPXI2irA",
        "colab_type": "code",
        "colab": {}
      },
      "source": [
        "from IPython.display import Image\n",
        "img= Image(filename='051ricebasmati_xlg.jpg')"
      ],
      "execution_count": null,
      "outputs": []
    },
    {
      "cell_type": "code",
      "metadata": {
        "id": "hyor_iuW2irB",
        "colab_type": "code",
        "colab": {}
      },
      "source": [
        "img"
      ],
      "execution_count": null,
      "outputs": []
    },
    {
      "cell_type": "code",
      "metadata": {
        "id": "aawAAjnf2irC",
        "colab_type": "code",
        "colab": {}
      },
      "source": [
        "from PIL import Image"
      ],
      "execution_count": null,
      "outputs": []
    },
    {
      "cell_type": "code",
      "metadata": {
        "id": "hrUZMX0g2irF",
        "colab_type": "code",
        "colab": {}
      },
      "source": [
        "im = Image.open('051ricebasmati_xlg.jpg')"
      ],
      "execution_count": null,
      "outputs": []
    },
    {
      "cell_type": "code",
      "metadata": {
        "id": "2Tc4kTaw2irI",
        "colab_type": "code",
        "colab": {}
      },
      "source": [
        "type(im)"
      ],
      "execution_count": null,
      "outputs": []
    },
    {
      "cell_type": "code",
      "metadata": {
        "id": "wf81irsn2irJ",
        "colab_type": "code",
        "colab": {}
      },
      "source": [
        "arr = np.array(img)"
      ],
      "execution_count": null,
      "outputs": []
    },
    {
      "cell_type": "code",
      "metadata": {
        "id": "w6rmJLa_2irL",
        "colab_type": "code",
        "colab": {}
      },
      "source": [
        "type(arr)"
      ],
      "execution_count": null,
      "outputs": []
    },
    {
      "cell_type": "code",
      "metadata": {
        "id": "feHtA_v-2irM",
        "colab_type": "code",
        "colab": {}
      },
      "source": [
        "arr"
      ],
      "execution_count": null,
      "outputs": []
    },
    {
      "cell_type": "markdown",
      "metadata": {
        "id": "LWrVNTbrAVQj",
        "colab_type": "text"
      },
      "source": [
        "#Basic Operation- Panda"
      ]
    },
    {
      "cell_type": "code",
      "metadata": {
        "id": "JpKt54zx2ira",
        "colab_type": "code",
        "colab": {
          "base_uri": "https://localhost:8080/",
          "height": 34
        },
        "outputId": "a66ee676-7496-4646-bca3-9f0c82c68e4d"
      },
      "source": [
        "import pandas as pd\n",
        "print(pd.__version__)"
      ],
      "execution_count": 1,
      "outputs": [
        {
          "output_type": "stream",
          "text": [
            "1.0.5\n"
          ],
          "name": "stdout"
        }
      ]
    },
    {
      "cell_type": "code",
      "metadata": {
        "id": "Wb7QbvBoBrLj",
        "colab_type": "code",
        "colab": {
          "base_uri": "https://localhost:8080/",
          "height": 34
        },
        "outputId": "c63a1530-78b0-4002-ad7e-d454b4be5f15"
      },
      "source": [
        "!pwd"
      ],
      "execution_count": 15,
      "outputs": [
        {
          "output_type": "stream",
          "text": [
            "/content\n"
          ],
          "name": "stdout"
        }
      ]
    },
    {
      "cell_type": "code",
      "metadata": {
        "id": "Aj8a8NDI2ird",
        "colab_type": "code",
        "colab": {}
      },
      "source": [
        "import pandas as pd\n",
        "df = pd.read_csv('sbux.csv')"
      ],
      "execution_count": 31,
      "outputs": []
    },
    {
      "cell_type": "code",
      "metadata": {
        "id": "Jb4HOuhK2irf",
        "colab_type": "code",
        "colab": {
          "base_uri": "https://localhost:8080/",
          "height": 204
        },
        "outputId": "dff6940e-e423-47b2-ce0d-4a5f1f0cff5e"
      },
      "source": [
        "df.head(5)"
      ],
      "execution_count": 32,
      "outputs": [
        {
          "output_type": "execute_result",
          "data": {
            "text/html": [
              "<div>\n",
              "<style scoped>\n",
              "    .dataframe tbody tr th:only-of-type {\n",
              "        vertical-align: middle;\n",
              "    }\n",
              "\n",
              "    .dataframe tbody tr th {\n",
              "        vertical-align: top;\n",
              "    }\n",
              "\n",
              "    .dataframe thead th {\n",
              "        text-align: right;\n",
              "    }\n",
              "</style>\n",
              "<table border=\"1\" class=\"dataframe\">\n",
              "  <thead>\n",
              "    <tr style=\"text-align: right;\">\n",
              "      <th></th>\n",
              "      <th>date</th>\n",
              "      <th>open</th>\n",
              "      <th>high</th>\n",
              "      <th>low</th>\n",
              "      <th>close</th>\n",
              "      <th>volume</th>\n",
              "      <th>Name</th>\n",
              "    </tr>\n",
              "  </thead>\n",
              "  <tbody>\n",
              "    <tr>\n",
              "      <th>0</th>\n",
              "      <td>2013-02-08</td>\n",
              "      <td>27.920</td>\n",
              "      <td>28.325</td>\n",
              "      <td>27.920</td>\n",
              "      <td>28.185</td>\n",
              "      <td>7146296</td>\n",
              "      <td>SBUX</td>\n",
              "    </tr>\n",
              "    <tr>\n",
              "      <th>1</th>\n",
              "      <td>2013-02-11</td>\n",
              "      <td>28.260</td>\n",
              "      <td>28.260</td>\n",
              "      <td>27.930</td>\n",
              "      <td>28.070</td>\n",
              "      <td>5457354</td>\n",
              "      <td>SBUX</td>\n",
              "    </tr>\n",
              "    <tr>\n",
              "      <th>2</th>\n",
              "      <td>2013-02-12</td>\n",
              "      <td>28.000</td>\n",
              "      <td>28.275</td>\n",
              "      <td>27.975</td>\n",
              "      <td>28.130</td>\n",
              "      <td>8665592</td>\n",
              "      <td>SBUX</td>\n",
              "    </tr>\n",
              "    <tr>\n",
              "      <th>3</th>\n",
              "      <td>2013-02-13</td>\n",
              "      <td>28.230</td>\n",
              "      <td>28.230</td>\n",
              "      <td>27.750</td>\n",
              "      <td>27.915</td>\n",
              "      <td>7022056</td>\n",
              "      <td>SBUX</td>\n",
              "    </tr>\n",
              "    <tr>\n",
              "      <th>4</th>\n",
              "      <td>2013-02-14</td>\n",
              "      <td>27.765</td>\n",
              "      <td>27.905</td>\n",
              "      <td>27.675</td>\n",
              "      <td>27.775</td>\n",
              "      <td>8899188</td>\n",
              "      <td>SBUX</td>\n",
              "    </tr>\n",
              "  </tbody>\n",
              "</table>\n",
              "</div>"
            ],
            "text/plain": [
              "         date    open    high     low   close   volume  Name\n",
              "0  2013-02-08  27.920  28.325  27.920  28.185  7146296  SBUX\n",
              "1  2013-02-11  28.260  28.260  27.930  28.070  5457354  SBUX\n",
              "2  2013-02-12  28.000  28.275  27.975  28.130  8665592  SBUX\n",
              "3  2013-02-13  28.230  28.230  27.750  27.915  7022056  SBUX\n",
              "4  2013-02-14  27.765  27.905  27.675  27.775  8899188  SBUX"
            ]
          },
          "metadata": {
            "tags": []
          },
          "execution_count": 32
        }
      ]
    },
    {
      "cell_type": "code",
      "metadata": {
        "id": "fZEbRjGG2irh",
        "colab_type": "code",
        "colab": {
          "base_uri": "https://localhost:8080/",
          "height": 255
        },
        "outputId": "914dafe8-e632-47ee-e494-73fae75eb6ec"
      },
      "source": [
        "df.info()"
      ],
      "execution_count": 33,
      "outputs": [
        {
          "output_type": "stream",
          "text": [
            "<class 'pandas.core.frame.DataFrame'>\n",
            "RangeIndex: 1259 entries, 0 to 1258\n",
            "Data columns (total 7 columns):\n",
            " #   Column  Non-Null Count  Dtype  \n",
            "---  ------  --------------  -----  \n",
            " 0   date    1259 non-null   object \n",
            " 1   open    1259 non-null   float64\n",
            " 2   high    1259 non-null   float64\n",
            " 3   low     1259 non-null   float64\n",
            " 4   close   1259 non-null   float64\n",
            " 5   volume  1259 non-null   int64  \n",
            " 6   Name    1259 non-null   object \n",
            "dtypes: float64(4), int64(1), object(2)\n",
            "memory usage: 69.0+ KB\n"
          ],
          "name": "stdout"
        }
      ]
    },
    {
      "cell_type": "code",
      "metadata": {
        "id": "m7c20K4B2irj",
        "colab_type": "code",
        "colab": {
          "base_uri": "https://localhost:8080/",
          "height": 34
        },
        "outputId": "b46ea551-4495-4e03-9f61-c7a4587726ac"
      },
      "source": [
        "df.columns"
      ],
      "execution_count": 34,
      "outputs": [
        {
          "output_type": "execute_result",
          "data": {
            "text/plain": [
              "Index(['date', 'open', 'high', 'low', 'close', 'volume', 'Name'], dtype='object')"
            ]
          },
          "metadata": {
            "tags": []
          },
          "execution_count": 34
        }
      ]
    },
    {
      "cell_type": "code",
      "metadata": {
        "id": "GzpYfoT1xz6r",
        "colab_type": "code",
        "colab": {}
      },
      "source": [
        "df.columns = ['date', 'open', 'high', 'low', 'close', 'volume', 'name']"
      ],
      "execution_count": 35,
      "outputs": []
    },
    {
      "cell_type": "code",
      "metadata": {
        "id": "nVsH_gXTx4YO",
        "colab_type": "code",
        "colab": {
          "base_uri": "https://localhost:8080/",
          "height": 34
        },
        "outputId": "cf4df57f-1765-4c5a-93f9-ce6a9f5b12f7"
      },
      "source": [
        "df.columns"
      ],
      "execution_count": 36,
      "outputs": [
        {
          "output_type": "execute_result",
          "data": {
            "text/plain": [
              "Index(['date', 'open', 'high', 'low', 'close', 'volume', 'name'], dtype='object')"
            ]
          },
          "metadata": {
            "tags": []
          },
          "execution_count": 36
        }
      ]
    },
    {
      "cell_type": "code",
      "metadata": {
        "id": "8c-fcCimx-kV",
        "colab_type": "code",
        "colab": {
          "base_uri": "https://localhost:8080/",
          "height": 419
        },
        "outputId": "abaf9b57-69fb-4077-c261-934b2e9e324b"
      },
      "source": [
        "df[['open', 'close']]"
      ],
      "execution_count": 37,
      "outputs": [
        {
          "output_type": "execute_result",
          "data": {
            "text/html": [
              "<div>\n",
              "<style scoped>\n",
              "    .dataframe tbody tr th:only-of-type {\n",
              "        vertical-align: middle;\n",
              "    }\n",
              "\n",
              "    .dataframe tbody tr th {\n",
              "        vertical-align: top;\n",
              "    }\n",
              "\n",
              "    .dataframe thead th {\n",
              "        text-align: right;\n",
              "    }\n",
              "</style>\n",
              "<table border=\"1\" class=\"dataframe\">\n",
              "  <thead>\n",
              "    <tr style=\"text-align: right;\">\n",
              "      <th></th>\n",
              "      <th>open</th>\n",
              "      <th>close</th>\n",
              "    </tr>\n",
              "  </thead>\n",
              "  <tbody>\n",
              "    <tr>\n",
              "      <th>0</th>\n",
              "      <td>27.920</td>\n",
              "      <td>28.185</td>\n",
              "    </tr>\n",
              "    <tr>\n",
              "      <th>1</th>\n",
              "      <td>28.260</td>\n",
              "      <td>28.070</td>\n",
              "    </tr>\n",
              "    <tr>\n",
              "      <th>2</th>\n",
              "      <td>28.000</td>\n",
              "      <td>28.130</td>\n",
              "    </tr>\n",
              "    <tr>\n",
              "      <th>3</th>\n",
              "      <td>28.230</td>\n",
              "      <td>27.915</td>\n",
              "    </tr>\n",
              "    <tr>\n",
              "      <th>4</th>\n",
              "      <td>27.765</td>\n",
              "      <td>27.775</td>\n",
              "    </tr>\n",
              "    <tr>\n",
              "      <th>...</th>\n",
              "      <td>...</td>\n",
              "      <td>...</td>\n",
              "    </tr>\n",
              "    <tr>\n",
              "      <th>1254</th>\n",
              "      <td>56.280</td>\n",
              "      <td>56.000</td>\n",
              "    </tr>\n",
              "    <tr>\n",
              "      <th>1255</th>\n",
              "      <td>55.900</td>\n",
              "      <td>55.770</td>\n",
              "    </tr>\n",
              "    <tr>\n",
              "      <th>1256</th>\n",
              "      <td>55.530</td>\n",
              "      <td>54.690</td>\n",
              "    </tr>\n",
              "    <tr>\n",
              "      <th>1257</th>\n",
              "      <td>53.685</td>\n",
              "      <td>55.610</td>\n",
              "    </tr>\n",
              "    <tr>\n",
              "      <th>1258</th>\n",
              "      <td>55.080</td>\n",
              "      <td>54.460</td>\n",
              "    </tr>\n",
              "  </tbody>\n",
              "</table>\n",
              "<p>1259 rows × 2 columns</p>\n",
              "</div>"
            ],
            "text/plain": [
              "        open   close\n",
              "0     27.920  28.185\n",
              "1     28.260  28.070\n",
              "2     28.000  28.130\n",
              "3     28.230  27.915\n",
              "4     27.765  27.775\n",
              "...      ...     ...\n",
              "1254  56.280  56.000\n",
              "1255  55.900  55.770\n",
              "1256  55.530  54.690\n",
              "1257  53.685  55.610\n",
              "1258  55.080  54.460\n",
              "\n",
              "[1259 rows x 2 columns]"
            ]
          },
          "metadata": {
            "tags": []
          },
          "execution_count": 37
        }
      ]
    },
    {
      "cell_type": "code",
      "metadata": {
        "id": "Yv8uP50DyFKb",
        "colab_type": "code",
        "colab": {
          "base_uri": "https://localhost:8080/",
          "height": 34
        },
        "outputId": "36662386-57bf-44cb-cb3a-18b3f8dca5cd"
      },
      "source": [
        "type(df[['open', 'close']])"
      ],
      "execution_count": 38,
      "outputs": [
        {
          "output_type": "execute_result",
          "data": {
            "text/plain": [
              "pandas.core.frame.DataFrame"
            ]
          },
          "metadata": {
            "tags": []
          },
          "execution_count": 38
        }
      ]
    },
    {
      "cell_type": "code",
      "metadata": {
        "id": "3VFRLO_vyGl1",
        "colab_type": "code",
        "colab": {
          "base_uri": "https://localhost:8080/",
          "height": 34
        },
        "outputId": "dd182054-7a10-4132-98bf-823a03320361"
      },
      "source": [
        "type(df['open'])"
      ],
      "execution_count": 39,
      "outputs": [
        {
          "output_type": "execute_result",
          "data": {
            "text/plain": [
              "pandas.core.series.Series"
            ]
          },
          "metadata": {
            "tags": []
          },
          "execution_count": 39
        }
      ]
    },
    {
      "cell_type": "code",
      "metadata": {
        "id": "rFGIA5Cm2irx",
        "colab_type": "code",
        "colab": {
          "base_uri": "https://localhost:8080/",
          "height": 153
        },
        "outputId": "106ffcae-87a1-4da0-c095-e07b56eae232"
      },
      "source": [
        "df.iloc[0]"
      ],
      "execution_count": 40,
      "outputs": [
        {
          "output_type": "execute_result",
          "data": {
            "text/plain": [
              "date      2013-02-08\n",
              "open           27.92\n",
              "high          28.325\n",
              "low            27.92\n",
              "close         28.185\n",
              "volume       7146296\n",
              "name            SBUX\n",
              "Name: 0, dtype: object"
            ]
          },
          "metadata": {
            "tags": []
          },
          "execution_count": 40
        }
      ]
    },
    {
      "cell_type": "code",
      "metadata": {
        "id": "tX2s8jOs2iry",
        "colab_type": "code",
        "colab": {
          "base_uri": "https://localhost:8080/",
          "height": 153
        },
        "outputId": "502e9538-7a62-42df-a5cc-8030c03a77cd"
      },
      "source": [
        "df.loc[0]"
      ],
      "execution_count": 41,
      "outputs": [
        {
          "output_type": "execute_result",
          "data": {
            "text/plain": [
              "date      2013-02-08\n",
              "open           27.92\n",
              "high          28.325\n",
              "low            27.92\n",
              "close         28.185\n",
              "volume       7146296\n",
              "name            SBUX\n",
              "Name: 0, dtype: object"
            ]
          },
          "metadata": {
            "tags": []
          },
          "execution_count": 41
        }
      ]
    },
    {
      "cell_type": "code",
      "metadata": {
        "id": "XYqp1ssXyjOl",
        "colab_type": "code",
        "colab": {}
      },
      "source": [
        "df2 = pd.read_csv('sbux.csv', index_col='date')"
      ],
      "execution_count": 43,
      "outputs": []
    },
    {
      "cell_type": "code",
      "metadata": {
        "id": "ldFnf-Fw2isW",
        "colab_type": "code",
        "colab": {
          "base_uri": "https://localhost:8080/",
          "height": 235
        },
        "outputId": "b45d6270-d7fc-4fb3-9481-01d78b831d23"
      },
      "source": [
        "df2.head()"
      ],
      "execution_count": 44,
      "outputs": [
        {
          "output_type": "execute_result",
          "data": {
            "text/html": [
              "<div>\n",
              "<style scoped>\n",
              "    .dataframe tbody tr th:only-of-type {\n",
              "        vertical-align: middle;\n",
              "    }\n",
              "\n",
              "    .dataframe tbody tr th {\n",
              "        vertical-align: top;\n",
              "    }\n",
              "\n",
              "    .dataframe thead th {\n",
              "        text-align: right;\n",
              "    }\n",
              "</style>\n",
              "<table border=\"1\" class=\"dataframe\">\n",
              "  <thead>\n",
              "    <tr style=\"text-align: right;\">\n",
              "      <th></th>\n",
              "      <th>open</th>\n",
              "      <th>high</th>\n",
              "      <th>low</th>\n",
              "      <th>close</th>\n",
              "      <th>volume</th>\n",
              "      <th>Name</th>\n",
              "    </tr>\n",
              "    <tr>\n",
              "      <th>date</th>\n",
              "      <th></th>\n",
              "      <th></th>\n",
              "      <th></th>\n",
              "      <th></th>\n",
              "      <th></th>\n",
              "      <th></th>\n",
              "    </tr>\n",
              "  </thead>\n",
              "  <tbody>\n",
              "    <tr>\n",
              "      <th>2013-02-08</th>\n",
              "      <td>27.920</td>\n",
              "      <td>28.325</td>\n",
              "      <td>27.920</td>\n",
              "      <td>28.185</td>\n",
              "      <td>7146296</td>\n",
              "      <td>SBUX</td>\n",
              "    </tr>\n",
              "    <tr>\n",
              "      <th>2013-02-11</th>\n",
              "      <td>28.260</td>\n",
              "      <td>28.260</td>\n",
              "      <td>27.930</td>\n",
              "      <td>28.070</td>\n",
              "      <td>5457354</td>\n",
              "      <td>SBUX</td>\n",
              "    </tr>\n",
              "    <tr>\n",
              "      <th>2013-02-12</th>\n",
              "      <td>28.000</td>\n",
              "      <td>28.275</td>\n",
              "      <td>27.975</td>\n",
              "      <td>28.130</td>\n",
              "      <td>8665592</td>\n",
              "      <td>SBUX</td>\n",
              "    </tr>\n",
              "    <tr>\n",
              "      <th>2013-02-13</th>\n",
              "      <td>28.230</td>\n",
              "      <td>28.230</td>\n",
              "      <td>27.750</td>\n",
              "      <td>27.915</td>\n",
              "      <td>7022056</td>\n",
              "      <td>SBUX</td>\n",
              "    </tr>\n",
              "    <tr>\n",
              "      <th>2013-02-14</th>\n",
              "      <td>27.765</td>\n",
              "      <td>27.905</td>\n",
              "      <td>27.675</td>\n",
              "      <td>27.775</td>\n",
              "      <td>8899188</td>\n",
              "      <td>SBUX</td>\n",
              "    </tr>\n",
              "  </tbody>\n",
              "</table>\n",
              "</div>"
            ],
            "text/plain": [
              "              open    high     low   close   volume  Name\n",
              "date                                                     \n",
              "2013-02-08  27.920  28.325  27.920  28.185  7146296  SBUX\n",
              "2013-02-11  28.260  28.260  27.930  28.070  5457354  SBUX\n",
              "2013-02-12  28.000  28.275  27.975  28.130  8665592  SBUX\n",
              "2013-02-13  28.230  28.230  27.750  27.915  7022056  SBUX\n",
              "2013-02-14  27.765  27.905  27.675  27.775  8899188  SBUX"
            ]
          },
          "metadata": {
            "tags": []
          },
          "execution_count": 44
        }
      ]
    },
    {
      "cell_type": "code",
      "metadata": {
        "id": "fzPyXBv0ytq4",
        "colab_type": "code",
        "colab": {
          "base_uri": "https://localhost:8080/",
          "height": 136
        },
        "outputId": "e9f118bb-7244-4c8c-a8de-ab3e0fe267f4"
      },
      "source": [
        "df2.loc['2013-02-08']"
      ],
      "execution_count": 45,
      "outputs": [
        {
          "output_type": "execute_result",
          "data": {
            "text/plain": [
              "open        27.92\n",
              "high       28.325\n",
              "low         27.92\n",
              "close      28.185\n",
              "volume    7146296\n",
              "Name         SBUX\n",
              "Name: 2013-02-08, dtype: object"
            ]
          },
          "metadata": {
            "tags": []
          },
          "execution_count": 45
        }
      ]
    },
    {
      "cell_type": "code",
      "metadata": {
        "id": "fIBYOAIwyxOA",
        "colab_type": "code",
        "colab": {
          "base_uri": "https://localhost:8080/",
          "height": 136
        },
        "outputId": "53a77237-5014-4c45-9537-0447577f1492"
      },
      "source": [
        "df2.iloc[0]"
      ],
      "execution_count": 48,
      "outputs": [
        {
          "output_type": "execute_result",
          "data": {
            "text/plain": [
              "open        27.92\n",
              "high       28.325\n",
              "low         27.92\n",
              "close      28.185\n",
              "volume    7146296\n",
              "Name         SBUX\n",
              "Name: 2013-02-08, dtype: object"
            ]
          },
          "metadata": {
            "tags": []
          },
          "execution_count": 48
        }
      ]
    },
    {
      "cell_type": "code",
      "metadata": {
        "id": "p51oIrX1zJar",
        "colab_type": "code",
        "colab": {
          "base_uri": "https://localhost:8080/",
          "height": 142
        },
        "outputId": "c1e62ff3-4fce-4100-ded4-1524a5794300"
      },
      "source": [
        "df[df['open']>64]"
      ],
      "execution_count": 49,
      "outputs": [
        {
          "output_type": "execute_result",
          "data": {
            "text/html": [
              "<div>\n",
              "<style scoped>\n",
              "    .dataframe tbody tr th:only-of-type {\n",
              "        vertical-align: middle;\n",
              "    }\n",
              "\n",
              "    .dataframe tbody tr th {\n",
              "        vertical-align: top;\n",
              "    }\n",
              "\n",
              "    .dataframe thead th {\n",
              "        text-align: right;\n",
              "    }\n",
              "</style>\n",
              "<table border=\"1\" class=\"dataframe\">\n",
              "  <thead>\n",
              "    <tr style=\"text-align: right;\">\n",
              "      <th></th>\n",
              "      <th>date</th>\n",
              "      <th>open</th>\n",
              "      <th>high</th>\n",
              "      <th>low</th>\n",
              "      <th>close</th>\n",
              "      <th>volume</th>\n",
              "      <th>name</th>\n",
              "    </tr>\n",
              "  </thead>\n",
              "  <tbody>\n",
              "    <tr>\n",
              "      <th>1087</th>\n",
              "      <td>2017-06-05</td>\n",
              "      <td>64.85</td>\n",
              "      <td>64.870</td>\n",
              "      <td>64.18</td>\n",
              "      <td>64.27</td>\n",
              "      <td>6809284</td>\n",
              "      <td>SBUX</td>\n",
              "    </tr>\n",
              "    <tr>\n",
              "      <th>1088</th>\n",
              "      <td>2017-06-06</td>\n",
              "      <td>64.22</td>\n",
              "      <td>64.350</td>\n",
              "      <td>64.05</td>\n",
              "      <td>64.16</td>\n",
              "      <td>5448439</td>\n",
              "      <td>SBUX</td>\n",
              "    </tr>\n",
              "    <tr>\n",
              "      <th>1089</th>\n",
              "      <td>2017-06-07</td>\n",
              "      <td>64.13</td>\n",
              "      <td>64.295</td>\n",
              "      <td>63.34</td>\n",
              "      <td>63.50</td>\n",
              "      <td>8364994</td>\n",
              "      <td>SBUX</td>\n",
              "    </tr>\n",
              "  </tbody>\n",
              "</table>\n",
              "</div>"
            ],
            "text/plain": [
              "            date   open    high    low  close   volume  name\n",
              "1087  2017-06-05  64.85  64.870  64.18  64.27  6809284  SBUX\n",
              "1088  2017-06-06  64.22  64.350  64.05  64.16  5448439  SBUX\n",
              "1089  2017-06-07  64.13  64.295  63.34  63.50  8364994  SBUX"
            ]
          },
          "metadata": {
            "tags": []
          },
          "execution_count": 49
        }
      ]
    },
    {
      "cell_type": "code",
      "metadata": {
        "id": "42Qgy7DYzO9W",
        "colab_type": "code",
        "colab": {
          "base_uri": "https://localhost:8080/",
          "height": 49
        },
        "outputId": "95e768c6-af08-47c8-8296-e3ed987fe6c9"
      },
      "source": [
        "df[df['name'] != 'SBUX']"
      ],
      "execution_count": 50,
      "outputs": [
        {
          "output_type": "execute_result",
          "data": {
            "text/html": [
              "<div>\n",
              "<style scoped>\n",
              "    .dataframe tbody tr th:only-of-type {\n",
              "        vertical-align: middle;\n",
              "    }\n",
              "\n",
              "    .dataframe tbody tr th {\n",
              "        vertical-align: top;\n",
              "    }\n",
              "\n",
              "    .dataframe thead th {\n",
              "        text-align: right;\n",
              "    }\n",
              "</style>\n",
              "<table border=\"1\" class=\"dataframe\">\n",
              "  <thead>\n",
              "    <tr style=\"text-align: right;\">\n",
              "      <th></th>\n",
              "      <th>date</th>\n",
              "      <th>open</th>\n",
              "      <th>high</th>\n",
              "      <th>low</th>\n",
              "      <th>close</th>\n",
              "      <th>volume</th>\n",
              "      <th>name</th>\n",
              "    </tr>\n",
              "  </thead>\n",
              "  <tbody>\n",
              "  </tbody>\n",
              "</table>\n",
              "</div>"
            ],
            "text/plain": [
              "Empty DataFrame\n",
              "Columns: [date, open, high, low, close, volume, name]\n",
              "Index: []"
            ]
          },
          "metadata": {
            "tags": []
          },
          "execution_count": 50
        }
      ]
    },
    {
      "cell_type": "code",
      "metadata": {
        "id": "PbqqvaalzS2h",
        "colab_type": "code",
        "colab": {
          "base_uri": "https://localhost:8080/",
          "height": 153
        },
        "outputId": "0a530819-0ea6-4868-dd98-5f00e022625d"
      },
      "source": [
        "df.values"
      ],
      "execution_count": 51,
      "outputs": [
        {
          "output_type": "execute_result",
          "data": {
            "text/plain": [
              "array([['2013-02-08', 27.92, 28.325, ..., 28.185, 7146296, 'SBUX'],\n",
              "       ['2013-02-11', 28.26, 28.26, ..., 28.07, 5457354, 'SBUX'],\n",
              "       ['2013-02-12', 28.0, 28.275, ..., 28.13, 8665592, 'SBUX'],\n",
              "       ...,\n",
              "       ['2018-02-05', 55.53, 56.26, ..., 54.69, 16059955, 'SBUX'],\n",
              "       ['2018-02-06', 53.685, 56.06, ..., 55.61, 17415065, 'SBUX'],\n",
              "       ['2018-02-07', 55.08, 55.43, ..., 54.46, 13927022, 'SBUX']],\n",
              "      dtype=object)"
            ]
          },
          "metadata": {
            "tags": []
          },
          "execution_count": 51
        }
      ]
    },
    {
      "cell_type": "code",
      "metadata": {
        "id": "EC4OEstQzYXx",
        "colab_type": "code",
        "colab": {
          "base_uri": "https://localhost:8080/",
          "height": 136
        },
        "outputId": "f9fed8b6-4580-455a-d224-4a0cb23d8d0e"
      },
      "source": [
        "A = df[['open', 'close']].values\n",
        "A"
      ],
      "execution_count": 52,
      "outputs": [
        {
          "output_type": "execute_result",
          "data": {
            "text/plain": [
              "array([[27.92 , 28.185],\n",
              "       [28.26 , 28.07 ],\n",
              "       [28.   , 28.13 ],\n",
              "       ...,\n",
              "       [55.53 , 54.69 ],\n",
              "       [53.685, 55.61 ],\n",
              "       [55.08 , 54.46 ]])"
            ]
          },
          "metadata": {
            "tags": []
          },
          "execution_count": 52
        }
      ]
    },
    {
      "cell_type": "code",
      "metadata": {
        "id": "nAbe47sKzk7A",
        "colab_type": "code",
        "colab": {
          "base_uri": "https://localhost:8080/",
          "height": 34
        },
        "outputId": "a6ba20e8-bbb7-40d3-ff1a-baafd1e0972e"
      },
      "source": [
        "type(A)"
      ],
      "execution_count": 53,
      "outputs": [
        {
          "output_type": "execute_result",
          "data": {
            "text/plain": [
              "numpy.ndarray"
            ]
          },
          "metadata": {
            "tags": []
          },
          "execution_count": 53
        }
      ]
    },
    {
      "cell_type": "code",
      "metadata": {
        "id": "aQuWauPJzot9",
        "colab_type": "code",
        "colab": {
          "base_uri": "https://localhost:8080/",
          "height": 34
        },
        "outputId": "195af6cb-aa3e-41b0-e809-02a788cf1a09"
      },
      "source": [
        "type(df)"
      ],
      "execution_count": 54,
      "outputs": [
        {
          "output_type": "execute_result",
          "data": {
            "text/plain": [
              "pandas.core.frame.DataFrame"
            ]
          },
          "metadata": {
            "tags": []
          },
          "execution_count": 54
        }
      ]
    },
    {
      "cell_type": "code",
      "metadata": {
        "id": "n4DfCRyXzuP1",
        "colab_type": "code",
        "colab": {
          "base_uri": "https://localhost:8080/",
          "height": 204
        },
        "outputId": "03df8c1b-9165-4068-ee35-b5e615fff854"
      },
      "source": [
        "smalldf = df[['open', 'close']]\n",
        "smalldf.head()"
      ],
      "execution_count": 55,
      "outputs": [
        {
          "output_type": "execute_result",
          "data": {
            "text/html": [
              "<div>\n",
              "<style scoped>\n",
              "    .dataframe tbody tr th:only-of-type {\n",
              "        vertical-align: middle;\n",
              "    }\n",
              "\n",
              "    .dataframe tbody tr th {\n",
              "        vertical-align: top;\n",
              "    }\n",
              "\n",
              "    .dataframe thead th {\n",
              "        text-align: right;\n",
              "    }\n",
              "</style>\n",
              "<table border=\"1\" class=\"dataframe\">\n",
              "  <thead>\n",
              "    <tr style=\"text-align: right;\">\n",
              "      <th></th>\n",
              "      <th>open</th>\n",
              "      <th>close</th>\n",
              "    </tr>\n",
              "  </thead>\n",
              "  <tbody>\n",
              "    <tr>\n",
              "      <th>0</th>\n",
              "      <td>27.920</td>\n",
              "      <td>28.185</td>\n",
              "    </tr>\n",
              "    <tr>\n",
              "      <th>1</th>\n",
              "      <td>28.260</td>\n",
              "      <td>28.070</td>\n",
              "    </tr>\n",
              "    <tr>\n",
              "      <th>2</th>\n",
              "      <td>28.000</td>\n",
              "      <td>28.130</td>\n",
              "    </tr>\n",
              "    <tr>\n",
              "      <th>3</th>\n",
              "      <td>28.230</td>\n",
              "      <td>27.915</td>\n",
              "    </tr>\n",
              "    <tr>\n",
              "      <th>4</th>\n",
              "      <td>27.765</td>\n",
              "      <td>27.775</td>\n",
              "    </tr>\n",
              "  </tbody>\n",
              "</table>\n",
              "</div>"
            ],
            "text/plain": [
              "     open   close\n",
              "0  27.920  28.185\n",
              "1  28.260  28.070\n",
              "2  28.000  28.130\n",
              "3  28.230  27.915\n",
              "4  27.765  27.775"
            ]
          },
          "metadata": {
            "tags": []
          },
          "execution_count": 55
        }
      ]
    },
    {
      "cell_type": "code",
      "metadata": {
        "id": "EpqO1NNJzxVc",
        "colab_type": "code",
        "colab": {}
      },
      "source": [
        "smalldf.to_csv('output.csv')"
      ],
      "execution_count": 56,
      "outputs": []
    },
    {
      "cell_type": "code",
      "metadata": {
        "id": "WLIZKZTkz5LS",
        "colab_type": "code",
        "colab": {
          "base_uri": "https://localhost:8080/",
          "height": 221
        },
        "outputId": "29087afd-6553-452d-a078-1ad548247444"
      },
      "source": [
        "def date_year(row):\n",
        "    return int(row['date'].split('-')[0])\n",
        "df.apply(date_year, axis=1)"
      ],
      "execution_count": 57,
      "outputs": [
        {
          "output_type": "execute_result",
          "data": {
            "text/plain": [
              "0       2013\n",
              "1       2013\n",
              "2       2013\n",
              "3       2013\n",
              "4       2013\n",
              "        ... \n",
              "1254    2018\n",
              "1255    2018\n",
              "1256    2018\n",
              "1257    2018\n",
              "1258    2018\n",
              "Length: 1259, dtype: int64"
            ]
          },
          "metadata": {
            "tags": []
          },
          "execution_count": 57
        }
      ]
    },
    {
      "cell_type": "code",
      "metadata": {
        "id": "PyD4AAcJz9lJ",
        "colab_type": "code",
        "colab": {}
      },
      "source": [
        "df['year'] = df.apply(date_year, axis=1)"
      ],
      "execution_count": 58,
      "outputs": []
    },
    {
      "cell_type": "code",
      "metadata": {
        "id": "VQeQ7Zwq0AZY",
        "colab_type": "code",
        "colab": {
          "base_uri": "https://localhost:8080/",
          "height": 204
        },
        "outputId": "8b0d7209-09c7-41c2-e1cb-8c9d8ca28e8d"
      },
      "source": [
        "df.head()"
      ],
      "execution_count": 59,
      "outputs": [
        {
          "output_type": "execute_result",
          "data": {
            "text/html": [
              "<div>\n",
              "<style scoped>\n",
              "    .dataframe tbody tr th:only-of-type {\n",
              "        vertical-align: middle;\n",
              "    }\n",
              "\n",
              "    .dataframe tbody tr th {\n",
              "        vertical-align: top;\n",
              "    }\n",
              "\n",
              "    .dataframe thead th {\n",
              "        text-align: right;\n",
              "    }\n",
              "</style>\n",
              "<table border=\"1\" class=\"dataframe\">\n",
              "  <thead>\n",
              "    <tr style=\"text-align: right;\">\n",
              "      <th></th>\n",
              "      <th>date</th>\n",
              "      <th>open</th>\n",
              "      <th>high</th>\n",
              "      <th>low</th>\n",
              "      <th>close</th>\n",
              "      <th>volume</th>\n",
              "      <th>name</th>\n",
              "      <th>year</th>\n",
              "    </tr>\n",
              "  </thead>\n",
              "  <tbody>\n",
              "    <tr>\n",
              "      <th>0</th>\n",
              "      <td>2013-02-08</td>\n",
              "      <td>27.920</td>\n",
              "      <td>28.325</td>\n",
              "      <td>27.920</td>\n",
              "      <td>28.185</td>\n",
              "      <td>7146296</td>\n",
              "      <td>SBUX</td>\n",
              "      <td>2013</td>\n",
              "    </tr>\n",
              "    <tr>\n",
              "      <th>1</th>\n",
              "      <td>2013-02-11</td>\n",
              "      <td>28.260</td>\n",
              "      <td>28.260</td>\n",
              "      <td>27.930</td>\n",
              "      <td>28.070</td>\n",
              "      <td>5457354</td>\n",
              "      <td>SBUX</td>\n",
              "      <td>2013</td>\n",
              "    </tr>\n",
              "    <tr>\n",
              "      <th>2</th>\n",
              "      <td>2013-02-12</td>\n",
              "      <td>28.000</td>\n",
              "      <td>28.275</td>\n",
              "      <td>27.975</td>\n",
              "      <td>28.130</td>\n",
              "      <td>8665592</td>\n",
              "      <td>SBUX</td>\n",
              "      <td>2013</td>\n",
              "    </tr>\n",
              "    <tr>\n",
              "      <th>3</th>\n",
              "      <td>2013-02-13</td>\n",
              "      <td>28.230</td>\n",
              "      <td>28.230</td>\n",
              "      <td>27.750</td>\n",
              "      <td>27.915</td>\n",
              "      <td>7022056</td>\n",
              "      <td>SBUX</td>\n",
              "      <td>2013</td>\n",
              "    </tr>\n",
              "    <tr>\n",
              "      <th>4</th>\n",
              "      <td>2013-02-14</td>\n",
              "      <td>27.765</td>\n",
              "      <td>27.905</td>\n",
              "      <td>27.675</td>\n",
              "      <td>27.775</td>\n",
              "      <td>8899188</td>\n",
              "      <td>SBUX</td>\n",
              "      <td>2013</td>\n",
              "    </tr>\n",
              "  </tbody>\n",
              "</table>\n",
              "</div>"
            ],
            "text/plain": [
              "         date    open    high     low   close   volume  name  year\n",
              "0  2013-02-08  27.920  28.325  27.920  28.185  7146296  SBUX  2013\n",
              "1  2013-02-11  28.260  28.260  27.930  28.070  5457354  SBUX  2013\n",
              "2  2013-02-12  28.000  28.275  27.975  28.130  8665592  SBUX  2013\n",
              "3  2013-02-13  28.230  28.230  27.750  27.915  7022056  SBUX  2013\n",
              "4  2013-02-14  27.765  27.905  27.675  27.775  8899188  SBUX  2013"
            ]
          },
          "metadata": {
            "tags": []
          },
          "execution_count": 59
        }
      ]
    },
    {
      "cell_type": "code",
      "metadata": {
        "id": "A1rufc8g0HYk",
        "colab_type": "code",
        "colab": {
          "base_uri": "https://localhost:8080/",
          "height": 265
        },
        "outputId": "9a2c6f7d-737a-4561-c7a9-6b4d1c2e5f95"
      },
      "source": [
        "df['open'].hist();"
      ],
      "execution_count": 60,
      "outputs": [
        {
          "output_type": "display_data",
          "data": {
            "image/png": "[encoded data removed]",
            "text/plain": [
              "<Figure size 432x288 with 1 Axes>"
            ]
          },
          "metadata": {
            "tags": [],
            "needs_background": "light"
          }
        }
      ]
    },
    {
      "cell_type": "code",
      "metadata": {
        "id": "DFRya3b92isa",
        "colab_type": "code",
        "colab": {
          "base_uri": "https://localhost:8080/",
          "height": 282
        },
        "outputId": "930ad28a-272c-4159-a558-41dede9ef851"
      },
      "source": [
        "type(df['open'].hist())"
      ],
      "execution_count": 61,
      "outputs": [
        {
          "output_type": "execute_result",
          "data": {
            "text/plain": [
              "matplotlib.axes._subplots.AxesSubplot"
            ]
          },
          "metadata": {
            "tags": []
          },
          "execution_count": 61
        },
        {
          "output_type": "display_data",
          "data": {
            "image/png": "[encoded data removed]",
            "text/plain": [
              "<Figure size 432x288 with 1 Axes>"
            ]
          },
          "metadata": {
            "tags": [],
            "needs_background": "light"
          }
        }
      ]
    },
    {
      "cell_type": "code",
      "metadata": {
        "id": "0PZVPNti0RF4",
        "colab_type": "code",
        "colab": {
          "base_uri": "https://localhost:8080/",
          "height": 265
        },
        "outputId": "8b177bc2-2f18-41e5-8989-35afdd48ddbe"
      },
      "source": [
        "df['open'].plot();"
      ],
      "execution_count": 62,
      "outputs": [
        {
          "output_type": "display_data",
          "data": {
            "image/png": "[encoded data removed]",
            "text/plain": [
              "<Figure size 432x288 with 1 Axes>"
            ]
          },
          "metadata": {
            "tags": [],
            "needs_background": "light"
          }
        }
      ]
    },
    {
      "cell_type": "code",
      "metadata": {
        "id": "sNK0X1sM2isc",
        "colab_type": "code",
        "colab": {
          "base_uri": "https://localhost:8080/",
          "height": 265
        },
        "outputId": "d65292eb-f56e-47c7-ac7b-b803c32af499"
      },
      "source": [
        "import matplotlib.pyplot as plt\n",
        "#plt.hist(df['open'])\n",
        "plt.plot(df['open'])\n",
        "plt.show()"
      ],
      "execution_count": 63,
      "outputs": [
        {
          "output_type": "display_data",
          "data": {
            "image/png": "[encoded data removed]",
            "text/plain": [
              "<Figure size 432x288 with 1 Axes>"
            ]
          },
          "metadata": {
            "tags": [],
            "needs_background": "light"
          }
        }
      ]
    },
    {
      "cell_type": "code",
      "metadata": {
        "id": "lbaw51K22isf",
        "colab_type": "code",
        "colab": {
          "base_uri": "https://localhost:8080/",
          "height": 359
        },
        "outputId": "261db939-1bcf-49ec-fd32-7d93d5f94844"
      },
      "source": [
        "df_n = df[['high','low']]\n",
        "df_n.head(10)"
      ],
      "execution_count": 64,
      "outputs": [
        {
          "output_type": "execute_result",
          "data": {
            "text/html": [
              "<div>\n",
              "<style scoped>\n",
              "    .dataframe tbody tr th:only-of-type {\n",
              "        vertical-align: middle;\n",
              "    }\n",
              "\n",
              "    .dataframe tbody tr th {\n",
              "        vertical-align: top;\n",
              "    }\n",
              "\n",
              "    .dataframe thead th {\n",
              "        text-align: right;\n",
              "    }\n",
              "</style>\n",
              "<table border=\"1\" class=\"dataframe\">\n",
              "  <thead>\n",
              "    <tr style=\"text-align: right;\">\n",
              "      <th></th>\n",
              "      <th>high</th>\n",
              "      <th>low</th>\n",
              "    </tr>\n",
              "  </thead>\n",
              "  <tbody>\n",
              "    <tr>\n",
              "      <th>0</th>\n",
              "      <td>28.325</td>\n",
              "      <td>27.920</td>\n",
              "    </tr>\n",
              "    <tr>\n",
              "      <th>1</th>\n",
              "      <td>28.260</td>\n",
              "      <td>27.930</td>\n",
              "    </tr>\n",
              "    <tr>\n",
              "      <th>2</th>\n",
              "      <td>28.275</td>\n",
              "      <td>27.975</td>\n",
              "    </tr>\n",
              "    <tr>\n",
              "      <th>3</th>\n",
              "      <td>28.230</td>\n",
              "      <td>27.750</td>\n",
              "    </tr>\n",
              "    <tr>\n",
              "      <th>4</th>\n",
              "      <td>27.905</td>\n",
              "      <td>27.675</td>\n",
              "    </tr>\n",
              "    <tr>\n",
              "      <th>5</th>\n",
              "      <td>27.850</td>\n",
              "      <td>27.085</td>\n",
              "    </tr>\n",
              "    <tr>\n",
              "      <th>6</th>\n",
              "      <td>27.305</td>\n",
              "      <td>27.010</td>\n",
              "    </tr>\n",
              "    <tr>\n",
              "      <th>7</th>\n",
              "      <td>27.420</td>\n",
              "      <td>26.590</td>\n",
              "    </tr>\n",
              "    <tr>\n",
              "      <th>8</th>\n",
              "      <td>26.820</td>\n",
              "      <td>26.260</td>\n",
              "    </tr>\n",
              "    <tr>\n",
              "      <th>9</th>\n",
              "      <td>27.105</td>\n",
              "      <td>26.640</td>\n",
              "    </tr>\n",
              "  </tbody>\n",
              "</table>\n",
              "</div>"
            ],
            "text/plain": [
              "     high     low\n",
              "0  28.325  27.920\n",
              "1  28.260  27.930\n",
              "2  28.275  27.975\n",
              "3  28.230  27.750\n",
              "4  27.905  27.675\n",
              "5  27.850  27.085\n",
              "6  27.305  27.010\n",
              "7  27.420  26.590\n",
              "8  26.820  26.260\n",
              "9  27.105  26.640"
            ]
          },
          "metadata": {
            "tags": []
          },
          "execution_count": 64
        }
      ]
    },
    {
      "cell_type": "code",
      "metadata": {
        "id": "aksPtVrg2isg",
        "colab_type": "code",
        "colab": {
          "base_uri": "https://localhost:8080/",
          "height": 265
        },
        "outputId": "061d2aba-472f-4d93-d480-667f95ad94c4"
      },
      "source": [
        "plt.plot(df_n)\n",
        "plt.show()"
      ],
      "execution_count": 67,
      "outputs": [
        {
          "output_type": "display_data",
          "data": {
            "image/png": "[encoded data removed]",
            "text/plain": [
              "<Figure size 432x288 with 1 Axes>"
            ]
          },
          "metadata": {
            "tags": [],
            "needs_background": "light"
          }
        }
      ]
    },
    {
      "cell_type": "code",
      "metadata": {
        "id": "H7WTp_qc1WT8",
        "colab_type": "code",
        "colab": {
          "base_uri": "https://localhost:8080/",
          "height": 34
        },
        "outputId": "4eb0fe76-c6ba-4c70-a9bb-73816e894e3a"
      },
      "source": [
        "type(df['high'])"
      ],
      "execution_count": 77,
      "outputs": [
        {
          "output_type": "execute_result",
          "data": {
            "text/plain": [
              "pandas.core.series.Series"
            ]
          },
          "metadata": {
            "tags": []
          },
          "execution_count": 77
        }
      ]
    },
    {
      "cell_type": "code",
      "metadata": {
        "id": "j-tLaorP0hnS",
        "colab_type": "code",
        "colab": {
          "base_uri": "https://localhost:8080/",
          "height": 265
        },
        "outputId": "0d8a4af3-8db2-4fb1-873a-10b3de1196b1"
      },
      "source": [
        "plt.boxplot(df['high'])\n",
        "plt.show()"
      ],
      "execution_count": 87,
      "outputs": [
        {
          "output_type": "display_data",
          "data": {
            "image/png": "[encoded data removed]",
            "text/plain": [
              "<Figure size 432x288 with 1 Axes>"
            ]
          },
          "metadata": {
            "tags": [],
            "needs_background": "light"
          }
        }
      ]
    },
    {
      "cell_type": "code",
      "metadata": {
        "scrolled": true,
        "id": "aqhiK3pJ2isi",
        "colab_type": "code",
        "colab": {
          "base_uri": "https://localhost:8080/",
          "height": 388
        },
        "outputId": "58b58683-364e-4d95-88f0-93129558aa50"
      },
      "source": [
        "import matplotlib.pyplot as plt\n",
        "%matplotlib inline\n",
        "from pandas.plotting import scatter_matrix\n",
        "scatter_matrix(df[['high','low']], alpha =0.2, figsize =(6, 6));\n"
      ],
      "execution_count": 68,
      "outputs": [
        {
          "output_type": "display_data",
          "data": {
            "image/png": "[encoded data removed]",
            "text/plain": [
              "<Figure size 432x432 with 4 Axes>"
            ]
          },
          "metadata": {
            "tags": [],
            "needs_background": "light"
          }
        }
      ]
    },
    {
      "cell_type": "code",
      "metadata": {
        "id": "X1A1i-ku2isj",
        "colab_type": "code",
        "colab": {
          "base_uri": "https://localhost:8080/",
          "height": 282
        },
        "outputId": "ca4662a5-0013-438d-ed56-509b67bb5f72"
      },
      "source": [
        "df_n[['high']].plot()"
      ],
      "execution_count": 69,
      "outputs": [
        {
          "output_type": "execute_result",
          "data": {
            "text/plain": [
              "<matplotlib.axes._subplots.AxesSubplot at 0x7fb8b5b317f0>"
            ]
          },
          "metadata": {
            "tags": []
          },
          "execution_count": 69
        },
        {
          "output_type": "display_data",
          "data": {
            "image/png": "[encoded data removed]",
            "text/plain": [
              "<Figure size 432x288 with 1 Axes>"
            ]
          },
          "metadata": {
            "tags": [],
            "needs_background": "light"
          }
        }
      ]
    },
    {
      "cell_type": "code",
      "metadata": {
        "id": "-MH6IU8h2isk",
        "colab_type": "code",
        "colab": {}
      },
      "source": [
        "import numpy as np\n",
        "import matplotlib.pyplot as plt\n",
        "from scipy.stats import norm"
      ],
      "execution_count": 70,
      "outputs": []
    },
    {
      "cell_type": "code",
      "metadata": {
        "id": "n9HxwdlH2ism",
        "colab_type": "code",
        "colab": {
          "base_uri": "https://localhost:8080/",
          "height": 1000
        },
        "outputId": "9c5679cd-991b-4a7c-979b-5efa9158b753"
      },
      "source": [
        "x = np.linspace(-6, 6, 1000)\n",
        "x"
      ],
      "execution_count": 71,
      "outputs": [
        {
          "output_type": "execute_result",
          "data": {
            "text/plain": [
              "array([-6.        , -5.98798799, -5.97597598, -5.96396396, -5.95195195,\n",
              "       -5.93993994, -5.92792793, -5.91591592, -5.9039039 , -5.89189189,\n",
              "       -5.87987988, -5.86786787, -5.85585586, -5.84384384, -5.83183183,\n",
              "       -5.81981982, -5.80780781, -5.7957958 , -5.78378378, -5.77177177,\n",
              "       -5.75975976, -5.74774775, -5.73573574, -5.72372372, -5.71171171,\n",
              "       -5.6996997 , -5.68768769, -5.67567568, -5.66366366, -5.65165165,\n",
              "       -5.63963964, -5.62762763, -5.61561562, -5.6036036 , -5.59159159,\n",
              "       -5.57957958, -5.56756757, -5.55555556, -5.54354354, -5.53153153,\n",
              "       -5.51951952, -5.50750751, -5.4954955 , -5.48348348, -5.47147147,\n",
              "       -5.45945946, -5.44744745, -5.43543544, -5.42342342, -5.41141141,\n",
              "       -5.3993994 , -5.38738739, -5.37537538, -5.36336336, -5.35135135,\n",
              "       -5.33933934, -5.32732733, -5.31531532, -5.3033033 , -5.29129129,\n",
              "       -5.27927928, -5.26726727, -5.25525526, -5.24324324, -5.23123123,\n",
              "       -5.21921922, -5.20720721, -5.1951952 , -5.18318318, -5.17117117,\n",
              "       -5.15915916, -5.14714715, -5.13513514, -5.12312312, -5.11111111,\n",
              "       -5.0990991 , -5.08708709, -5.07507508, -5.06306306, -5.05105105,\n",
              "       -5.03903904, -5.02702703, -5.01501502, -5.003003  , -4.99099099,\n",
              "       -4.97897898, -4.96696697, -4.95495495, -4.94294294, -4.93093093,\n",
              "       -4.91891892, -4.90690691, -4.89489489, -4.88288288, -4.87087087,\n",
              "       -4.85885886, -4.84684685, -4.83483483, -4.82282282, -4.81081081,\n",
              "       -4.7987988 , -4.78678679, -4.77477477, -4.76276276, -4.75075075,\n",
              "       -4.73873874, -4.72672673, -4.71471471, -4.7027027 , -4.69069069,\n",
              "       -4.67867868, -4.66666667, -4.65465465, -4.64264264, -4.63063063,\n",
              "       -4.61861862, -4.60660661, -4.59459459, -4.58258258, -4.57057057,\n",
              "       -4.55855856, -4.54654655, -4.53453453, -4.52252252, -4.51051051,\n",
              "       -4.4984985 , -4.48648649, -4.47447447, -4.46246246, -4.45045045,\n",
              "       -4.43843844, -4.42642643, -4.41441441, -4.4024024 , -4.39039039,\n",
              "       -4.37837838, -4.36636637, -4.35435435, -4.34234234, -4.33033033,\n",
              "       -4.31831832, -4.30630631, -4.29429429, -4.28228228, -4.27027027,\n",
              "       -4.25825826, -4.24624625, -4.23423423, -4.22222222, -4.21021021,\n",
              "       -4.1981982 , -4.18618619, -4.17417417, -4.16216216, -4.15015015,\n",
              "       -4.13813814, -4.12612613, -4.11411411, -4.1021021 , -4.09009009,\n",
              "       -4.07807808, -4.06606607, -4.05405405, -4.04204204, -4.03003003,\n",
              "       -4.01801802, -4.00600601, -3.99399399, -3.98198198, -3.96996997,\n",
              "       -3.95795796, -3.94594595, -3.93393393, -3.92192192, -3.90990991,\n",
              "       -3.8978979 , -3.88588589, -3.87387387, -3.86186186, -3.84984985,\n",
              "       -3.83783784, -3.82582583, -3.81381381, -3.8018018 , -3.78978979,\n",
              "       -3.77777778, -3.76576577, -3.75375375, -3.74174174, -3.72972973,\n",
              "       -3.71771772, -3.70570571, -3.69369369, -3.68168168, -3.66966967,\n",
              "       -3.65765766, -3.64564565, -3.63363363, -3.62162162, -3.60960961,\n",
              "       -3.5975976 , -3.58558559, -3.57357357, -3.56156156, -3.54954955,\n",
              "       -3.53753754, -3.52552553, -3.51351351, -3.5015015 , -3.48948949,\n",
              "       -3.47747748, -3.46546547, -3.45345345, -3.44144144, -3.42942943,\n",
              "       -3.41741742, -3.40540541, -3.39339339, -3.38138138, -3.36936937,\n",
              "       -3.35735736, -3.34534535, -3.33333333, -3.32132132, -3.30930931,\n",
              "       -3.2972973 , -3.28528529, -3.27327327, -3.26126126, -3.24924925,\n",
              "       -3.23723724, -3.22522523, -3.21321321, -3.2012012 , -3.18918919,\n",
              "       -3.17717718, -3.16516517, -3.15315315, -3.14114114, -3.12912913,\n",
              "       -3.11711712, -3.10510511, -3.09309309, -3.08108108, -3.06906907,\n",
              "       -3.05705706, -3.04504505, -3.03303303, -3.02102102, -3.00900901,\n",
              "       -2.996997  , -2.98498498, -2.97297297, -2.96096096, -2.94894895,\n",
              "       -2.93693694, -2.92492492, -2.91291291, -2.9009009 , -2.88888889,\n",
              "       -2.87687688, -2.86486486, -2.85285285, -2.84084084, -2.82882883,\n",
              "       -2.81681682, -2.8048048 , -2.79279279, -2.78078078, -2.76876877,\n",
              "       -2.75675676, -2.74474474, -2.73273273, -2.72072072, -2.70870871,\n",
              "       -2.6966967 , -2.68468468, -2.67267267, -2.66066066, -2.64864865,\n",
              "       -2.63663664, -2.62462462, -2.61261261, -2.6006006 , -2.58858859,\n",
              "       -2.57657658, -2.56456456, -2.55255255, -2.54054054, -2.52852853,\n",
              "       -2.51651652, -2.5045045 , -2.49249249, -2.48048048, -2.46846847,\n",
              "       -2.45645646, -2.44444444, -2.43243243, -2.42042042, -2.40840841,\n",
              "       -2.3963964 , -2.38438438, -2.37237237, -2.36036036, -2.34834835,\n",
              "       -2.33633634, -2.32432432, -2.31231231, -2.3003003 , -2.28828829,\n",
              "       -2.27627628, -2.26426426, -2.25225225, -2.24024024, -2.22822823,\n",
              "       -2.21621622, -2.2042042 , -2.19219219, -2.18018018, -2.16816817,\n",
              "       -2.15615616, -2.14414414, -2.13213213, -2.12012012, -2.10810811,\n",
              "       -2.0960961 , -2.08408408, -2.07207207, -2.06006006, -2.04804805,\n",
              "       -2.03603604, -2.02402402, -2.01201201, -2.        , -1.98798799,\n",
              "       -1.97597598, -1.96396396, -1.95195195, -1.93993994, -1.92792793,\n",
              "       -1.91591592, -1.9039039 , -1.89189189, -1.87987988, -1.86786787,\n",
              "       -1.85585586, -1.84384384, -1.83183183, -1.81981982, -1.80780781,\n",
              "       -1.7957958 , -1.78378378, -1.77177177, -1.75975976, -1.74774775,\n",
              "       -1.73573574, -1.72372372, -1.71171171, -1.6996997 , -1.68768769,\n",
              "       -1.67567568, -1.66366366, -1.65165165, -1.63963964, -1.62762763,\n",
              "       -1.61561562, -1.6036036 , -1.59159159, -1.57957958, -1.56756757,\n",
              "       -1.55555556, -1.54354354, -1.53153153, -1.51951952, -1.50750751,\n",
              "       -1.4954955 , -1.48348348, -1.47147147, -1.45945946, -1.44744745,\n",
              "       -1.43543544, -1.42342342, -1.41141141, -1.3993994 , -1.38738739,\n",
              "       -1.37537538, -1.36336336, -1.35135135, -1.33933934, -1.32732733,\n",
              "       -1.31531532, -1.3033033 , -1.29129129, -1.27927928, -1.26726727,\n",
              "       -1.25525526, -1.24324324, -1.23123123, -1.21921922, -1.20720721,\n",
              "       -1.1951952 , -1.18318318, -1.17117117, -1.15915916, -1.14714715,\n",
              "       -1.13513514, -1.12312312, -1.11111111, -1.0990991 , -1.08708709,\n",
              "       -1.07507508, -1.06306306, -1.05105105, -1.03903904, -1.02702703,\n",
              "       -1.01501502, -1.003003  , -0.99099099, -0.97897898, -0.96696697,\n",
              "       -0.95495495, -0.94294294, -0.93093093, -0.91891892, -0.90690691,\n",
              "       -0.89489489, -0.88288288, -0.87087087, -0.85885886, -0.84684685,\n",
              "       -0.83483483, -0.82282282, -0.81081081, -0.7987988 , -0.78678679,\n",
              "       -0.77477477, -0.76276276, -0.75075075, -0.73873874, -0.72672673,\n",
              "       -0.71471471, -0.7027027 , -0.69069069, -0.67867868, -0.66666667,\n",
              "       -0.65465465, -0.64264264, -0.63063063, -0.61861862, -0.60660661,\n",
              "       -0.59459459, -0.58258258, -0.57057057, -0.55855856, -0.54654655,\n",
              "       -0.53453453, -0.52252252, -0.51051051, -0.4984985 , -0.48648649,\n",
              "       -0.47447447, -0.46246246, -0.45045045, -0.43843844, -0.42642643,\n",
              "       -0.41441441, -0.4024024 , -0.39039039, -0.37837838, -0.36636637,\n",
              "       -0.35435435, -0.34234234, -0.33033033, -0.31831832, -0.30630631,\n",
              "       -0.29429429, -0.28228228, -0.27027027, -0.25825826, -0.24624625,\n",
              "       -0.23423423, -0.22222222, -0.21021021, -0.1981982 , -0.18618619,\n",
              "       -0.17417417, -0.16216216, -0.15015015, -0.13813814, -0.12612613,\n",
              "       -0.11411411, -0.1021021 , -0.09009009, -0.07807808, -0.06606607,\n",
              "       -0.05405405, -0.04204204, -0.03003003, -0.01801802, -0.00600601,\n",
              "        0.00600601,  0.01801802,  0.03003003,  0.04204204,  0.05405405,\n",
              "        0.06606607,  0.07807808,  0.09009009,  0.1021021 ,  0.11411411,\n",
              "        0.12612613,  0.13813814,  0.15015015,  0.16216216,  0.17417417,\n",
              "        0.18618619,  0.1981982 ,  0.21021021,  0.22222222,  0.23423423,\n",
              "        0.24624625,  0.25825826,  0.27027027,  0.28228228,  0.29429429,\n",
              "        0.30630631,  0.31831832,  0.33033033,  0.34234234,  0.35435435,\n",
              "        0.36636637,  0.37837838,  0.39039039,  0.4024024 ,  0.41441441,\n",
              "        0.42642643,  0.43843844,  0.45045045,  0.46246246,  0.47447447,\n",
              "        0.48648649,  0.4984985 ,  0.51051051,  0.52252252,  0.53453453,\n",
              "        0.54654655,  0.55855856,  0.57057057,  0.58258258,  0.59459459,\n",
              "        0.60660661,  0.61861862,  0.63063063,  0.64264264,  0.65465465,\n",
              "        0.66666667,  0.67867868,  0.69069069,  0.7027027 ,  0.71471471,\n",
              "        0.72672673,  0.73873874,  0.75075075,  0.76276276,  0.77477477,\n",
              "        0.78678679,  0.7987988 ,  0.81081081,  0.82282282,  0.83483483,\n",
              "        0.84684685,  0.85885886,  0.87087087,  0.88288288,  0.89489489,\n",
              "        0.90690691,  0.91891892,  0.93093093,  0.94294294,  0.95495495,\n",
              "        0.96696697,  0.97897898,  0.99099099,  1.003003  ,  1.01501502,\n",
              "        1.02702703,  1.03903904,  1.05105105,  1.06306306,  1.07507508,\n",
              "        1.08708709,  1.0990991 ,  1.11111111,  1.12312312,  1.13513514,\n",
              "        1.14714715,  1.15915916,  1.17117117,  1.18318318,  1.1951952 ,\n",
              "        1.20720721,  1.21921922,  1.23123123,  1.24324324,  1.25525526,\n",
              "        1.26726727,  1.27927928,  1.29129129,  1.3033033 ,  1.31531532,\n",
              "        1.32732733,  1.33933934,  1.35135135,  1.36336336,  1.37537538,\n",
              "        1.38738739,  1.3993994 ,  1.41141141,  1.42342342,  1.43543544,\n",
              "        1.44744745,  1.45945946,  1.47147147,  1.48348348,  1.4954955 ,\n",
              "        1.50750751,  1.51951952,  1.53153153,  1.54354354,  1.55555556,\n",
              "        1.56756757,  1.57957958,  1.59159159,  1.6036036 ,  1.61561562,\n",
              "        1.62762763,  1.63963964,  1.65165165,  1.66366366,  1.67567568,\n",
              "        1.68768769,  1.6996997 ,  1.71171171,  1.72372372,  1.73573574,\n",
              "        1.74774775,  1.75975976,  1.77177177,  1.78378378,  1.7957958 ,\n",
              "        1.80780781,  1.81981982,  1.83183183,  1.84384384,  1.85585586,\n",
              "        1.86786787,  1.87987988,  1.89189189,  1.9039039 ,  1.91591592,\n",
              "        1.92792793,  1.93993994,  1.95195195,  1.96396396,  1.97597598,\n",
              "        1.98798799,  2.        ,  2.01201201,  2.02402402,  2.03603604,\n",
              "        2.04804805,  2.06006006,  2.07207207,  2.08408408,  2.0960961 ,\n",
              "        2.10810811,  2.12012012,  2.13213213,  2.14414414,  2.15615616,\n",
              "        2.16816817,  2.18018018,  2.19219219,  2.2042042 ,  2.21621622,\n",
              "        2.22822823,  2.24024024,  2.25225225,  2.26426426,  2.27627628,\n",
              "        2.28828829,  2.3003003 ,  2.31231231,  2.32432432,  2.33633634,\n",
              "        2.34834835,  2.36036036,  2.37237237,  2.38438438,  2.3963964 ,\n",
              "        2.40840841,  2.42042042,  2.43243243,  2.44444444,  2.45645646,\n",
              "        2.46846847,  2.48048048,  2.49249249,  2.5045045 ,  2.51651652,\n",
              "        2.52852853,  2.54054054,  2.55255255,  2.56456456,  2.57657658,\n",
              "        2.58858859,  2.6006006 ,  2.61261261,  2.62462462,  2.63663664,\n",
              "        2.64864865,  2.66066066,  2.67267267,  2.68468468,  2.6966967 ,\n",
              "        2.70870871,  2.72072072,  2.73273273,  2.74474474,  2.75675676,\n",
              "        2.76876877,  2.78078078,  2.79279279,  2.8048048 ,  2.81681682,\n",
              "        2.82882883,  2.84084084,  2.85285285,  2.86486486,  2.87687688,\n",
              "        2.88888889,  2.9009009 ,  2.91291291,  2.92492492,  2.93693694,\n",
              "        2.94894895,  2.96096096,  2.97297297,  2.98498498,  2.996997  ,\n",
              "        3.00900901,  3.02102102,  3.03303303,  3.04504505,  3.05705706,\n",
              "        3.06906907,  3.08108108,  3.09309309,  3.10510511,  3.11711712,\n",
              "        3.12912913,  3.14114114,  3.15315315,  3.16516517,  3.17717718,\n",
              "        3.18918919,  3.2012012 ,  3.21321321,  3.22522523,  3.23723724,\n",
              "        3.24924925,  3.26126126,  3.27327327,  3.28528529,  3.2972973 ,\n",
              "        3.30930931,  3.32132132,  3.33333333,  3.34534535,  3.35735736,\n",
              "        3.36936937,  3.38138138,  3.39339339,  3.40540541,  3.41741742,\n",
              "        3.42942943,  3.44144144,  3.45345345,  3.46546547,  3.47747748,\n",
              "        3.48948949,  3.5015015 ,  3.51351351,  3.52552553,  3.53753754,\n",
              "        3.54954955,  3.56156156,  3.57357357,  3.58558559,  3.5975976 ,\n",
              "        3.60960961,  3.62162162,  3.63363363,  3.64564565,  3.65765766,\n",
              "        3.66966967,  3.68168168,  3.69369369,  3.70570571,  3.71771772,\n",
              "        3.72972973,  3.74174174,  3.75375375,  3.76576577,  3.77777778,\n",
              "        3.78978979,  3.8018018 ,  3.81381381,  3.82582583,  3.83783784,\n",
              "        3.84984985,  3.86186186,  3.87387387,  3.88588589,  3.8978979 ,\n",
              "        3.90990991,  3.92192192,  3.93393393,  3.94594595,  3.95795796,\n",
              "        3.96996997,  3.98198198,  3.99399399,  4.00600601,  4.01801802,\n",
              "        4.03003003,  4.04204204,  4.05405405,  4.06606607,  4.07807808,\n",
              "        4.09009009,  4.1021021 ,  4.11411411,  4.12612613,  4.13813814,\n",
              "        4.15015015,  4.16216216,  4.17417417,  4.18618619,  4.1981982 ,\n",
              "        4.21021021,  4.22222222,  4.23423423,  4.24624625,  4.25825826,\n",
              "        4.27027027,  4.28228228,  4.29429429,  4.30630631,  4.31831832,\n",
              "        4.33033033,  4.34234234,  4.35435435,  4.36636637,  4.37837838,\n",
              "        4.39039039,  4.4024024 ,  4.41441441,  4.42642643,  4.43843844,\n",
              "        4.45045045,  4.46246246,  4.47447447,  4.48648649,  4.4984985 ,\n",
              "        4.51051051,  4.52252252,  4.53453453,  4.54654655,  4.55855856,\n",
              "        4.57057057,  4.58258258,  4.59459459,  4.60660661,  4.61861862,\n",
              "        4.63063063,  4.64264264,  4.65465465,  4.66666667,  4.67867868,\n",
              "        4.69069069,  4.7027027 ,  4.71471471,  4.72672673,  4.73873874,\n",
              "        4.75075075,  4.76276276,  4.77477477,  4.78678679,  4.7987988 ,\n",
              "        4.81081081,  4.82282282,  4.83483483,  4.84684685,  4.85885886,\n",
              "        4.87087087,  4.88288288,  4.89489489,  4.90690691,  4.91891892,\n",
              "        4.93093093,  4.94294294,  4.95495495,  4.96696697,  4.97897898,\n",
              "        4.99099099,  5.003003  ,  5.01501502,  5.02702703,  5.03903904,\n",
              "        5.05105105,  5.06306306,  5.07507508,  5.08708709,  5.0990991 ,\n",
              "        5.11111111,  5.12312312,  5.13513514,  5.14714715,  5.15915916,\n",
              "        5.17117117,  5.18318318,  5.1951952 ,  5.20720721,  5.21921922,\n",
              "        5.23123123,  5.24324324,  5.25525526,  5.26726727,  5.27927928,\n",
              "        5.29129129,  5.3033033 ,  5.31531532,  5.32732733,  5.33933934,\n",
              "        5.35135135,  5.36336336,  5.37537538,  5.38738739,  5.3993994 ,\n",
              "        5.41141141,  5.42342342,  5.43543544,  5.44744745,  5.45945946,\n",
              "        5.47147147,  5.48348348,  5.4954955 ,  5.50750751,  5.51951952,\n",
              "        5.53153153,  5.54354354,  5.55555556,  5.56756757,  5.57957958,\n",
              "        5.59159159,  5.6036036 ,  5.61561562,  5.62762763,  5.63963964,\n",
              "        5.65165165,  5.66366366,  5.67567568,  5.68768769,  5.6996997 ,\n",
              "        5.71171171,  5.72372372,  5.73573574,  5.74774775,  5.75975976,\n",
              "        5.77177177,  5.78378378,  5.7957958 ,  5.80780781,  5.81981982,\n",
              "        5.83183183,  5.84384384,  5.85585586,  5.86786787,  5.87987988,\n",
              "        5.89189189,  5.9039039 ,  5.91591592,  5.92792793,  5.93993994,\n",
              "        5.95195195,  5.96396396,  5.97597598,  5.98798799,  6.        ])"
            ]
          },
          "metadata": {
            "tags": []
          },
          "execution_count": 71
        }
      ]
    },
    {
      "cell_type": "code",
      "metadata": {
        "id": "vceC8XdF2isn",
        "colab_type": "code",
        "colab": {}
      },
      "source": [
        "#Probability Distribution Fucntion \n",
        "fx = norm.pdf(x, loc=0, scale=1)"
      ],
      "execution_count": 72,
      "outputs": []
    },
    {
      "cell_type": "code",
      "metadata": {
        "id": "gqV7zUVq2isp",
        "colab_type": "code",
        "colab": {
          "base_uri": "https://localhost:8080/",
          "height": 282
        },
        "outputId": "5551ede5-9976-475e-8a9a-f57586387a70"
      },
      "source": [
        "plt.plot(x,fx)"
      ],
      "execution_count": 73,
      "outputs": [
        {
          "output_type": "execute_result",
          "data": {
            "text/plain": [
              "[<matplotlib.lines.Line2D at 0x7fb8abc49390>]"
            ]
          },
          "metadata": {
            "tags": []
          },
          "execution_count": 73
        },
        {
          "output_type": "display_data",
          "data": {
            "image/png": "[encoded data removed]",
            "text/plain": [
              "<Figure size 432x288 with 1 Axes>"
            ]
          },
          "metadata": {
            "tags": [],
            "needs_background": "light"
          }
        }
      ]
    },
    {
      "cell_type": "code",
      "metadata": {
        "id": "XpASNkbx2isq",
        "colab_type": "code",
        "colab": {
          "base_uri": "https://localhost:8080/",
          "height": 282
        },
        "outputId": "99bb8dcd-c054-408c-aaaf-4555782b506e"
      },
      "source": [
        "#Cumulitive Distribution Function \n",
        "Fx = norm.cdf(x, loc = 0, scale =1)\n",
        "plt.plot(x, Fx)"
      ],
      "execution_count": 74,
      "outputs": [
        {
          "output_type": "execute_result",
          "data": {
            "text/plain": [
              "[<matplotlib.lines.Line2D at 0x7fb8abbb3fd0>]"
            ]
          },
          "metadata": {
            "tags": []
          },
          "execution_count": 74
        },
        {
          "output_type": "display_data",
          "data": {
            "image/png": "[encoded data removed]",
            "text/plain": [
              "<Figure size 432x288 with 1 Axes>"
            ]
          },
          "metadata": {
            "tags": [],
            "needs_background": "light"
          }
        }
      ]
    },
    {
      "cell_type": "code",
      "metadata": {
        "id": "YpmdZz2G2isv",
        "colab_type": "code",
        "colab": {
          "base_uri": "https://localhost:8080/",
          "height": 282
        },
        "outputId": "ea7b938d-6e0d-45cb-e307-29c5b119ec00"
      },
      "source": [
        "logfx = norm.logpdf(x, loc =0, scale =1)\n",
        "plt.plot(x,logfx)"
      ],
      "execution_count": 75,
      "outputs": [
        {
          "output_type": "execute_result",
          "data": {
            "text/plain": [
              "[<matplotlib.lines.Line2D at 0x7fb8abb1d780>]"
            ]
          },
          "metadata": {
            "tags": []
          },
          "execution_count": 75
        },
        {
          "output_type": "display_data",
          "data": {
            "image/png": "[encoded data removed]",
            "text/plain": [
              "<Figure size 432x288 with 1 Axes>"
            ]
          },
          "metadata": {
            "tags": [],
            "needs_background": "light"
          }
        }
      ]
    }
  ]
}